{
  "nbformat": 4,
  "nbformat_minor": 0,
  "metadata": {
    "colab": {
      "provenance": []
    },
    "kernelspec": {
      "name": "python3",
      "display_name": "Python 3"
    },
    "language_info": {
      "name": "python"
    }
  },
  "cells": [
    {
      "cell_type": "code",
      "execution_count": 1,
      "metadata": {
        "colab": {
          "base_uri": "https://localhost:8080/"
        },
        "id": "JjSnYhvVgGvK",
        "outputId": "595fca56-b4f6-44e8-fdbc-8595e255ff2b"
      },
      "outputs": [
        {
          "output_type": "stream",
          "name": "stdout",
          "text": [
            "Mounted at /content/drive\n"
          ]
        }
      ],
      "source": [
        "from google.colab import drive\n",
        "import pandas as pd\n",
        "import numpy as np\n",
        "from sklearn.preprocessing import OneHotEncoder, OrdinalEncoder, StandardScaler\n",
        "from sklearn.compose import ColumnTransformer\n",
        "from sklearn.pipeline import Pipeline\n",
        "drive.mount('/content/drive')"
      ]
    },
    {
      "cell_type": "code",
      "source": [
        "test_file_path = '/content/drive/MyDrive/loan_prediction_kaggle/test.csv'\n",
        "testData = pd.read_csv(test_file_path)\n",
        "train_file_path= '/content/drive/MyDrive/loan_prediction_kaggle/train.csv'\n",
        "trainData = pd.read_csv(train_file_path)\n",
        "testData.shape,trainData.shape"
      ],
      "metadata": {
        "colab": {
          "base_uri": "https://localhost:8080/"
        },
        "id": "nSdU1UdXgroF",
        "outputId": "ec513527-7e1a-4f73-ae86-603874eec341"
      },
      "execution_count": 2,
      "outputs": [
        {
          "output_type": "execute_result",
          "data": {
            "text/plain": [
              "((39098, 12), (58645, 13))"
            ]
          },
          "metadata": {},
          "execution_count": 2
        }
      ]
    },
    {
      "cell_type": "code",
      "source": [
        "trainData.head()"
      ],
      "metadata": {
        "colab": {
          "base_uri": "https://localhost:8080/",
          "height": 226
        },
        "id": "kPDsuYwnhHs8",
        "outputId": "42a27e6d-29ae-4d96-ea40-d4bed0c54f63"
      },
      "execution_count": 3,
      "outputs": [
        {
          "output_type": "execute_result",
          "data": {
            "text/plain": [
              "   id  person_age  person_income person_home_ownership  person_emp_length  \\\n",
              "0   0          37          35000                  RENT                0.0   \n",
              "1   1          22          56000                   OWN                6.0   \n",
              "2   2          29          28800                   OWN                8.0   \n",
              "3   3          30          70000                  RENT               14.0   \n",
              "4   4          22          60000                  RENT                2.0   \n",
              "\n",
              "  loan_intent loan_grade  loan_amnt  loan_int_rate  loan_percent_income  \\\n",
              "0   EDUCATION          B       6000          11.49                 0.17   \n",
              "1     MEDICAL          C       4000          13.35                 0.07   \n",
              "2    PERSONAL          A       6000           8.90                 0.21   \n",
              "3     VENTURE          B      12000          11.11                 0.17   \n",
              "4     MEDICAL          A       6000           6.92                 0.10   \n",
              "\n",
              "  cb_person_default_on_file  cb_person_cred_hist_length  loan_status  \n",
              "0                         N                          14            0  \n",
              "1                         N                           2            0  \n",
              "2                         N                          10            0  \n",
              "3                         N                           5            0  \n",
              "4                         N                           3            0  "
            ],
            "text/html": [
              "\n",
              "  <div id=\"df-a26dad9f-4f5a-4b15-b979-250aa5aa155a\" class=\"colab-df-container\">\n",
              "    <div>\n",
              "<style scoped>\n",
              "    .dataframe tbody tr th:only-of-type {\n",
              "        vertical-align: middle;\n",
              "    }\n",
              "\n",
              "    .dataframe tbody tr th {\n",
              "        vertical-align: top;\n",
              "    }\n",
              "\n",
              "    .dataframe thead th {\n",
              "        text-align: right;\n",
              "    }\n",
              "</style>\n",
              "<table border=\"1\" class=\"dataframe\">\n",
              "  <thead>\n",
              "    <tr style=\"text-align: right;\">\n",
              "      <th></th>\n",
              "      <th>id</th>\n",
              "      <th>person_age</th>\n",
              "      <th>person_income</th>\n",
              "      <th>person_home_ownership</th>\n",
              "      <th>person_emp_length</th>\n",
              "      <th>loan_intent</th>\n",
              "      <th>loan_grade</th>\n",
              "      <th>loan_amnt</th>\n",
              "      <th>loan_int_rate</th>\n",
              "      <th>loan_percent_income</th>\n",
              "      <th>cb_person_default_on_file</th>\n",
              "      <th>cb_person_cred_hist_length</th>\n",
              "      <th>loan_status</th>\n",
              "    </tr>\n",
              "  </thead>\n",
              "  <tbody>\n",
              "    <tr>\n",
              "      <th>0</th>\n",
              "      <td>0</td>\n",
              "      <td>37</td>\n",
              "      <td>35000</td>\n",
              "      <td>RENT</td>\n",
              "      <td>0.0</td>\n",
              "      <td>EDUCATION</td>\n",
              "      <td>B</td>\n",
              "      <td>6000</td>\n",
              "      <td>11.49</td>\n",
              "      <td>0.17</td>\n",
              "      <td>N</td>\n",
              "      <td>14</td>\n",
              "      <td>0</td>\n",
              "    </tr>\n",
              "    <tr>\n",
              "      <th>1</th>\n",
              "      <td>1</td>\n",
              "      <td>22</td>\n",
              "      <td>56000</td>\n",
              "      <td>OWN</td>\n",
              "      <td>6.0</td>\n",
              "      <td>MEDICAL</td>\n",
              "      <td>C</td>\n",
              "      <td>4000</td>\n",
              "      <td>13.35</td>\n",
              "      <td>0.07</td>\n",
              "      <td>N</td>\n",
              "      <td>2</td>\n",
              "      <td>0</td>\n",
              "    </tr>\n",
              "    <tr>\n",
              "      <th>2</th>\n",
              "      <td>2</td>\n",
              "      <td>29</td>\n",
              "      <td>28800</td>\n",
              "      <td>OWN</td>\n",
              "      <td>8.0</td>\n",
              "      <td>PERSONAL</td>\n",
              "      <td>A</td>\n",
              "      <td>6000</td>\n",
              "      <td>8.90</td>\n",
              "      <td>0.21</td>\n",
              "      <td>N</td>\n",
              "      <td>10</td>\n",
              "      <td>0</td>\n",
              "    </tr>\n",
              "    <tr>\n",
              "      <th>3</th>\n",
              "      <td>3</td>\n",
              "      <td>30</td>\n",
              "      <td>70000</td>\n",
              "      <td>RENT</td>\n",
              "      <td>14.0</td>\n",
              "      <td>VENTURE</td>\n",
              "      <td>B</td>\n",
              "      <td>12000</td>\n",
              "      <td>11.11</td>\n",
              "      <td>0.17</td>\n",
              "      <td>N</td>\n",
              "      <td>5</td>\n",
              "      <td>0</td>\n",
              "    </tr>\n",
              "    <tr>\n",
              "      <th>4</th>\n",
              "      <td>4</td>\n",
              "      <td>22</td>\n",
              "      <td>60000</td>\n",
              "      <td>RENT</td>\n",
              "      <td>2.0</td>\n",
              "      <td>MEDICAL</td>\n",
              "      <td>A</td>\n",
              "      <td>6000</td>\n",
              "      <td>6.92</td>\n",
              "      <td>0.10</td>\n",
              "      <td>N</td>\n",
              "      <td>3</td>\n",
              "      <td>0</td>\n",
              "    </tr>\n",
              "  </tbody>\n",
              "</table>\n",
              "</div>\n",
              "    <div class=\"colab-df-buttons\">\n",
              "\n",
              "  <div class=\"colab-df-container\">\n",
              "    <button class=\"colab-df-convert\" onclick=\"convertToInteractive('df-a26dad9f-4f5a-4b15-b979-250aa5aa155a')\"\n",
              "            title=\"Convert this dataframe to an interactive table.\"\n",
              "            style=\"display:none;\">\n",
              "\n",
              "  <svg xmlns=\"http://www.w3.org/2000/svg\" height=\"24px\" viewBox=\"0 -960 960 960\">\n",
              "    <path d=\"M120-120v-720h720v720H120Zm60-500h600v-160H180v160Zm220 220h160v-160H400v160Zm0 220h160v-160H400v160ZM180-400h160v-160H180v160Zm440 0h160v-160H620v160ZM180-180h160v-160H180v160Zm440 0h160v-160H620v160Z\"/>\n",
              "  </svg>\n",
              "    </button>\n",
              "\n",
              "  <style>\n",
              "    .colab-df-container {\n",
              "      display:flex;\n",
              "      gap: 12px;\n",
              "    }\n",
              "\n",
              "    .colab-df-convert {\n",
              "      background-color: #E8F0FE;\n",
              "      border: none;\n",
              "      border-radius: 50%;\n",
              "      cursor: pointer;\n",
              "      display: none;\n",
              "      fill: #1967D2;\n",
              "      height: 32px;\n",
              "      padding: 0 0 0 0;\n",
              "      width: 32px;\n",
              "    }\n",
              "\n",
              "    .colab-df-convert:hover {\n",
              "      background-color: #E2EBFA;\n",
              "      box-shadow: 0px 1px 2px rgba(60, 64, 67, 0.3), 0px 1px 3px 1px rgba(60, 64, 67, 0.15);\n",
              "      fill: #174EA6;\n",
              "    }\n",
              "\n",
              "    .colab-df-buttons div {\n",
              "      margin-bottom: 4px;\n",
              "    }\n",
              "\n",
              "    [theme=dark] .colab-df-convert {\n",
              "      background-color: #3B4455;\n",
              "      fill: #D2E3FC;\n",
              "    }\n",
              "\n",
              "    [theme=dark] .colab-df-convert:hover {\n",
              "      background-color: #434B5C;\n",
              "      box-shadow: 0px 1px 3px 1px rgba(0, 0, 0, 0.15);\n",
              "      filter: drop-shadow(0px 1px 2px rgba(0, 0, 0, 0.3));\n",
              "      fill: #FFFFFF;\n",
              "    }\n",
              "  </style>\n",
              "\n",
              "    <script>\n",
              "      const buttonEl =\n",
              "        document.querySelector('#df-a26dad9f-4f5a-4b15-b979-250aa5aa155a button.colab-df-convert');\n",
              "      buttonEl.style.display =\n",
              "        google.colab.kernel.accessAllowed ? 'block' : 'none';\n",
              "\n",
              "      async function convertToInteractive(key) {\n",
              "        const element = document.querySelector('#df-a26dad9f-4f5a-4b15-b979-250aa5aa155a');\n",
              "        const dataTable =\n",
              "          await google.colab.kernel.invokeFunction('convertToInteractive',\n",
              "                                                    [key], {});\n",
              "        if (!dataTable) return;\n",
              "\n",
              "        const docLinkHtml = 'Like what you see? Visit the ' +\n",
              "          '<a target=\"_blank\" href=https://colab.research.google.com/notebooks/data_table.ipynb>data table notebook</a>'\n",
              "          + ' to learn more about interactive tables.';\n",
              "        element.innerHTML = '';\n",
              "        dataTable['output_type'] = 'display_data';\n",
              "        await google.colab.output.renderOutput(dataTable, element);\n",
              "        const docLink = document.createElement('div');\n",
              "        docLink.innerHTML = docLinkHtml;\n",
              "        element.appendChild(docLink);\n",
              "      }\n",
              "    </script>\n",
              "  </div>\n",
              "\n",
              "\n",
              "    <div id=\"df-fbc24f3b-7fc5-431a-a9bd-d70a18883cb0\">\n",
              "      <button class=\"colab-df-quickchart\" onclick=\"quickchart('df-fbc24f3b-7fc5-431a-a9bd-d70a18883cb0')\"\n",
              "                title=\"Suggest charts\"\n",
              "                style=\"display:none;\">\n",
              "\n",
              "<svg xmlns=\"http://www.w3.org/2000/svg\" height=\"24px\"viewBox=\"0 0 24 24\"\n",
              "     width=\"24px\">\n",
              "    <g>\n",
              "        <path d=\"M19 3H5c-1.1 0-2 .9-2 2v14c0 1.1.9 2 2 2h14c1.1 0 2-.9 2-2V5c0-1.1-.9-2-2-2zM9 17H7v-7h2v7zm4 0h-2V7h2v10zm4 0h-2v-4h2v4z\"/>\n",
              "    </g>\n",
              "</svg>\n",
              "      </button>\n",
              "\n",
              "<style>\n",
              "  .colab-df-quickchart {\n",
              "      --bg-color: #E8F0FE;\n",
              "      --fill-color: #1967D2;\n",
              "      --hover-bg-color: #E2EBFA;\n",
              "      --hover-fill-color: #174EA6;\n",
              "      --disabled-fill-color: #AAA;\n",
              "      --disabled-bg-color: #DDD;\n",
              "  }\n",
              "\n",
              "  [theme=dark] .colab-df-quickchart {\n",
              "      --bg-color: #3B4455;\n",
              "      --fill-color: #D2E3FC;\n",
              "      --hover-bg-color: #434B5C;\n",
              "      --hover-fill-color: #FFFFFF;\n",
              "      --disabled-bg-color: #3B4455;\n",
              "      --disabled-fill-color: #666;\n",
              "  }\n",
              "\n",
              "  .colab-df-quickchart {\n",
              "    background-color: var(--bg-color);\n",
              "    border: none;\n",
              "    border-radius: 50%;\n",
              "    cursor: pointer;\n",
              "    display: none;\n",
              "    fill: var(--fill-color);\n",
              "    height: 32px;\n",
              "    padding: 0;\n",
              "    width: 32px;\n",
              "  }\n",
              "\n",
              "  .colab-df-quickchart:hover {\n",
              "    background-color: var(--hover-bg-color);\n",
              "    box-shadow: 0 1px 2px rgba(60, 64, 67, 0.3), 0 1px 3px 1px rgba(60, 64, 67, 0.15);\n",
              "    fill: var(--button-hover-fill-color);\n",
              "  }\n",
              "\n",
              "  .colab-df-quickchart-complete:disabled,\n",
              "  .colab-df-quickchart-complete:disabled:hover {\n",
              "    background-color: var(--disabled-bg-color);\n",
              "    fill: var(--disabled-fill-color);\n",
              "    box-shadow: none;\n",
              "  }\n",
              "\n",
              "  .colab-df-spinner {\n",
              "    border: 2px solid var(--fill-color);\n",
              "    border-color: transparent;\n",
              "    border-bottom-color: var(--fill-color);\n",
              "    animation:\n",
              "      spin 1s steps(1) infinite;\n",
              "  }\n",
              "\n",
              "  @keyframes spin {\n",
              "    0% {\n",
              "      border-color: transparent;\n",
              "      border-bottom-color: var(--fill-color);\n",
              "      border-left-color: var(--fill-color);\n",
              "    }\n",
              "    20% {\n",
              "      border-color: transparent;\n",
              "      border-left-color: var(--fill-color);\n",
              "      border-top-color: var(--fill-color);\n",
              "    }\n",
              "    30% {\n",
              "      border-color: transparent;\n",
              "      border-left-color: var(--fill-color);\n",
              "      border-top-color: var(--fill-color);\n",
              "      border-right-color: var(--fill-color);\n",
              "    }\n",
              "    40% {\n",
              "      border-color: transparent;\n",
              "      border-right-color: var(--fill-color);\n",
              "      border-top-color: var(--fill-color);\n",
              "    }\n",
              "    60% {\n",
              "      border-color: transparent;\n",
              "      border-right-color: var(--fill-color);\n",
              "    }\n",
              "    80% {\n",
              "      border-color: transparent;\n",
              "      border-right-color: var(--fill-color);\n",
              "      border-bottom-color: var(--fill-color);\n",
              "    }\n",
              "    90% {\n",
              "      border-color: transparent;\n",
              "      border-bottom-color: var(--fill-color);\n",
              "    }\n",
              "  }\n",
              "</style>\n",
              "\n",
              "      <script>\n",
              "        async function quickchart(key) {\n",
              "          const quickchartButtonEl =\n",
              "            document.querySelector('#' + key + ' button');\n",
              "          quickchartButtonEl.disabled = true;  // To prevent multiple clicks.\n",
              "          quickchartButtonEl.classList.add('colab-df-spinner');\n",
              "          try {\n",
              "            const charts = await google.colab.kernel.invokeFunction(\n",
              "                'suggestCharts', [key], {});\n",
              "          } catch (error) {\n",
              "            console.error('Error during call to suggestCharts:', error);\n",
              "          }\n",
              "          quickchartButtonEl.classList.remove('colab-df-spinner');\n",
              "          quickchartButtonEl.classList.add('colab-df-quickchart-complete');\n",
              "        }\n",
              "        (() => {\n",
              "          let quickchartButtonEl =\n",
              "            document.querySelector('#df-fbc24f3b-7fc5-431a-a9bd-d70a18883cb0 button');\n",
              "          quickchartButtonEl.style.display =\n",
              "            google.colab.kernel.accessAllowed ? 'block' : 'none';\n",
              "        })();\n",
              "      </script>\n",
              "    </div>\n",
              "\n",
              "    </div>\n",
              "  </div>\n"
            ],
            "application/vnd.google.colaboratory.intrinsic+json": {
              "type": "dataframe",
              "variable_name": "trainData",
              "summary": "{\n  \"name\": \"trainData\",\n  \"rows\": 58645,\n  \"fields\": [\n    {\n      \"column\": \"id\",\n      \"properties\": {\n        \"dtype\": \"number\",\n        \"std\": 16929,\n        \"min\": 0,\n        \"max\": 58644,\n        \"num_unique_values\": 58645,\n        \"samples\": [\n          4657,\n          56440,\n          42117\n        ],\n        \"semantic_type\": \"\",\n        \"description\": \"\"\n      }\n    },\n    {\n      \"column\": \"person_age\",\n      \"properties\": {\n        \"dtype\": \"number\",\n        \"std\": 6,\n        \"min\": 20,\n        \"max\": 123,\n        \"num_unique_values\": 53,\n        \"samples\": [\n          48,\n          62,\n          69\n        ],\n        \"semantic_type\": \"\",\n        \"description\": \"\"\n      }\n    },\n    {\n      \"column\": \"person_income\",\n      \"properties\": {\n        \"dtype\": \"number\",\n        \"std\": 37931,\n        \"min\": 4200,\n        \"max\": 1900000,\n        \"num_unique_values\": 2641,\n        \"samples\": [\n          57110,\n          31200,\n          45378\n        ],\n        \"semantic_type\": \"\",\n        \"description\": \"\"\n      }\n    },\n    {\n      \"column\": \"person_home_ownership\",\n      \"properties\": {\n        \"dtype\": \"category\",\n        \"num_unique_values\": 4,\n        \"samples\": [\n          \"OWN\",\n          \"OTHER\",\n          \"RENT\"\n        ],\n        \"semantic_type\": \"\",\n        \"description\": \"\"\n      }\n    },\n    {\n      \"column\": \"person_emp_length\",\n      \"properties\": {\n        \"dtype\": \"number\",\n        \"std\": 3.9597843444189302,\n        \"min\": 0.0,\n        \"max\": 123.0,\n        \"num_unique_values\": 36,\n        \"samples\": [\n          39.0,\n          4.0,\n          25.0\n        ],\n        \"semantic_type\": \"\",\n        \"description\": \"\"\n      }\n    },\n    {\n      \"column\": \"loan_intent\",\n      \"properties\": {\n        \"dtype\": \"category\",\n        \"num_unique_values\": 6,\n        \"samples\": [\n          \"EDUCATION\",\n          \"MEDICAL\",\n          \"HOMEIMPROVEMENT\"\n        ],\n        \"semantic_type\": \"\",\n        \"description\": \"\"\n      }\n    },\n    {\n      \"column\": \"loan_grade\",\n      \"properties\": {\n        \"dtype\": \"category\",\n        \"num_unique_values\": 7,\n        \"samples\": [\n          \"B\",\n          \"C\",\n          \"F\"\n        ],\n        \"semantic_type\": \"\",\n        \"description\": \"\"\n      }\n    },\n    {\n      \"column\": \"loan_amnt\",\n      \"properties\": {\n        \"dtype\": \"number\",\n        \"std\": 5563,\n        \"min\": 500,\n        \"max\": 35000,\n        \"num_unique_values\": 545,\n        \"samples\": [\n          1275,\n          6600,\n          11600\n        ],\n        \"semantic_type\": \"\",\n        \"description\": \"\"\n      }\n    },\n    {\n      \"column\": \"loan_int_rate\",\n      \"properties\": {\n        \"dtype\": \"number\",\n        \"std\": 3.0346972031377084,\n        \"min\": 5.42,\n        \"max\": 23.22,\n        \"num_unique_values\": 362,\n        \"samples\": [\n          11.97,\n          7.49,\n          14.11\n        ],\n        \"semantic_type\": \"\",\n        \"description\": \"\"\n      }\n    },\n    {\n      \"column\": \"loan_percent_income\",\n      \"properties\": {\n        \"dtype\": \"number\",\n        \"std\": 0.09169179303584088,\n        \"min\": 0.0,\n        \"max\": 0.83,\n        \"num_unique_values\": 61,\n        \"samples\": [\n          0.17,\n          0.27,\n          0.51\n        ],\n        \"semantic_type\": \"\",\n        \"description\": \"\"\n      }\n    },\n    {\n      \"column\": \"cb_person_default_on_file\",\n      \"properties\": {\n        \"dtype\": \"category\",\n        \"num_unique_values\": 2,\n        \"samples\": [\n          \"Y\",\n          \"N\"\n        ],\n        \"semantic_type\": \"\",\n        \"description\": \"\"\n      }\n    },\n    {\n      \"column\": \"cb_person_cred_hist_length\",\n      \"properties\": {\n        \"dtype\": \"number\",\n        \"std\": 4,\n        \"min\": 2,\n        \"max\": 30,\n        \"num_unique_values\": 29,\n        \"samples\": [\n          25,\n          23\n        ],\n        \"semantic_type\": \"\",\n        \"description\": \"\"\n      }\n    },\n    {\n      \"column\": \"loan_status\",\n      \"properties\": {\n        \"dtype\": \"number\",\n        \"std\": 0,\n        \"min\": 0,\n        \"max\": 1,\n        \"num_unique_values\": 2,\n        \"samples\": [\n          1,\n          0\n        ],\n        \"semantic_type\": \"\",\n        \"description\": \"\"\n      }\n    }\n  ]\n}"
            }
          },
          "metadata": {},
          "execution_count": 3
        }
      ]
    },
    {
      "cell_type": "code",
      "source": [
        "testData.head()"
      ],
      "metadata": {
        "colab": {
          "base_uri": "https://localhost:8080/",
          "height": 226
        },
        "id": "kDsW48Tbh4Pq",
        "outputId": "79db7ae1-bc90-4de4-e858-c31cf32657fa"
      },
      "execution_count": 4,
      "outputs": [
        {
          "output_type": "execute_result",
          "data": {
            "text/plain": [
              "      id  person_age  person_income person_home_ownership  person_emp_length  \\\n",
              "0  58645          23          69000                  RENT                3.0   \n",
              "1  58646          26          96000              MORTGAGE                6.0   \n",
              "2  58647          26          30000                  RENT                5.0   \n",
              "3  58648          33          50000                  RENT                4.0   \n",
              "4  58649          26         102000              MORTGAGE                8.0   \n",
              "\n",
              "         loan_intent loan_grade  loan_amnt  loan_int_rate  \\\n",
              "0    HOMEIMPROVEMENT          F      25000          15.76   \n",
              "1           PERSONAL          C      10000          12.68   \n",
              "2            VENTURE          E       4000          17.19   \n",
              "3  DEBTCONSOLIDATION          A       7000           8.90   \n",
              "4    HOMEIMPROVEMENT          D      15000          16.32   \n",
              "\n",
              "   loan_percent_income cb_person_default_on_file  cb_person_cred_hist_length  \n",
              "0                 0.36                         N                           2  \n",
              "1                 0.10                         Y                           4  \n",
              "2                 0.13                         Y                           2  \n",
              "3                 0.14                         N                           7  \n",
              "4                 0.15                         Y                           4  "
            ],
            "text/html": [
              "\n",
              "  <div id=\"df-4a83e155-ea25-454f-aa24-73ed45ef91a3\" class=\"colab-df-container\">\n",
              "    <div>\n",
              "<style scoped>\n",
              "    .dataframe tbody tr th:only-of-type {\n",
              "        vertical-align: middle;\n",
              "    }\n",
              "\n",
              "    .dataframe tbody tr th {\n",
              "        vertical-align: top;\n",
              "    }\n",
              "\n",
              "    .dataframe thead th {\n",
              "        text-align: right;\n",
              "    }\n",
              "</style>\n",
              "<table border=\"1\" class=\"dataframe\">\n",
              "  <thead>\n",
              "    <tr style=\"text-align: right;\">\n",
              "      <th></th>\n",
              "      <th>id</th>\n",
              "      <th>person_age</th>\n",
              "      <th>person_income</th>\n",
              "      <th>person_home_ownership</th>\n",
              "      <th>person_emp_length</th>\n",
              "      <th>loan_intent</th>\n",
              "      <th>loan_grade</th>\n",
              "      <th>loan_amnt</th>\n",
              "      <th>loan_int_rate</th>\n",
              "      <th>loan_percent_income</th>\n",
              "      <th>cb_person_default_on_file</th>\n",
              "      <th>cb_person_cred_hist_length</th>\n",
              "    </tr>\n",
              "  </thead>\n",
              "  <tbody>\n",
              "    <tr>\n",
              "      <th>0</th>\n",
              "      <td>58645</td>\n",
              "      <td>23</td>\n",
              "      <td>69000</td>\n",
              "      <td>RENT</td>\n",
              "      <td>3.0</td>\n",
              "      <td>HOMEIMPROVEMENT</td>\n",
              "      <td>F</td>\n",
              "      <td>25000</td>\n",
              "      <td>15.76</td>\n",
              "      <td>0.36</td>\n",
              "      <td>N</td>\n",
              "      <td>2</td>\n",
              "    </tr>\n",
              "    <tr>\n",
              "      <th>1</th>\n",
              "      <td>58646</td>\n",
              "      <td>26</td>\n",
              "      <td>96000</td>\n",
              "      <td>MORTGAGE</td>\n",
              "      <td>6.0</td>\n",
              "      <td>PERSONAL</td>\n",
              "      <td>C</td>\n",
              "      <td>10000</td>\n",
              "      <td>12.68</td>\n",
              "      <td>0.10</td>\n",
              "      <td>Y</td>\n",
              "      <td>4</td>\n",
              "    </tr>\n",
              "    <tr>\n",
              "      <th>2</th>\n",
              "      <td>58647</td>\n",
              "      <td>26</td>\n",
              "      <td>30000</td>\n",
              "      <td>RENT</td>\n",
              "      <td>5.0</td>\n",
              "      <td>VENTURE</td>\n",
              "      <td>E</td>\n",
              "      <td>4000</td>\n",
              "      <td>17.19</td>\n",
              "      <td>0.13</td>\n",
              "      <td>Y</td>\n",
              "      <td>2</td>\n",
              "    </tr>\n",
              "    <tr>\n",
              "      <th>3</th>\n",
              "      <td>58648</td>\n",
              "      <td>33</td>\n",
              "      <td>50000</td>\n",
              "      <td>RENT</td>\n",
              "      <td>4.0</td>\n",
              "      <td>DEBTCONSOLIDATION</td>\n",
              "      <td>A</td>\n",
              "      <td>7000</td>\n",
              "      <td>8.90</td>\n",
              "      <td>0.14</td>\n",
              "      <td>N</td>\n",
              "      <td>7</td>\n",
              "    </tr>\n",
              "    <tr>\n",
              "      <th>4</th>\n",
              "      <td>58649</td>\n",
              "      <td>26</td>\n",
              "      <td>102000</td>\n",
              "      <td>MORTGAGE</td>\n",
              "      <td>8.0</td>\n",
              "      <td>HOMEIMPROVEMENT</td>\n",
              "      <td>D</td>\n",
              "      <td>15000</td>\n",
              "      <td>16.32</td>\n",
              "      <td>0.15</td>\n",
              "      <td>Y</td>\n",
              "      <td>4</td>\n",
              "    </tr>\n",
              "  </tbody>\n",
              "</table>\n",
              "</div>\n",
              "    <div class=\"colab-df-buttons\">\n",
              "\n",
              "  <div class=\"colab-df-container\">\n",
              "    <button class=\"colab-df-convert\" onclick=\"convertToInteractive('df-4a83e155-ea25-454f-aa24-73ed45ef91a3')\"\n",
              "            title=\"Convert this dataframe to an interactive table.\"\n",
              "            style=\"display:none;\">\n",
              "\n",
              "  <svg xmlns=\"http://www.w3.org/2000/svg\" height=\"24px\" viewBox=\"0 -960 960 960\">\n",
              "    <path d=\"M120-120v-720h720v720H120Zm60-500h600v-160H180v160Zm220 220h160v-160H400v160Zm0 220h160v-160H400v160ZM180-400h160v-160H180v160Zm440 0h160v-160H620v160ZM180-180h160v-160H180v160Zm440 0h160v-160H620v160Z\"/>\n",
              "  </svg>\n",
              "    </button>\n",
              "\n",
              "  <style>\n",
              "    .colab-df-container {\n",
              "      display:flex;\n",
              "      gap: 12px;\n",
              "    }\n",
              "\n",
              "    .colab-df-convert {\n",
              "      background-color: #E8F0FE;\n",
              "      border: none;\n",
              "      border-radius: 50%;\n",
              "      cursor: pointer;\n",
              "      display: none;\n",
              "      fill: #1967D2;\n",
              "      height: 32px;\n",
              "      padding: 0 0 0 0;\n",
              "      width: 32px;\n",
              "    }\n",
              "\n",
              "    .colab-df-convert:hover {\n",
              "      background-color: #E2EBFA;\n",
              "      box-shadow: 0px 1px 2px rgba(60, 64, 67, 0.3), 0px 1px 3px 1px rgba(60, 64, 67, 0.15);\n",
              "      fill: #174EA6;\n",
              "    }\n",
              "\n",
              "    .colab-df-buttons div {\n",
              "      margin-bottom: 4px;\n",
              "    }\n",
              "\n",
              "    [theme=dark] .colab-df-convert {\n",
              "      background-color: #3B4455;\n",
              "      fill: #D2E3FC;\n",
              "    }\n",
              "\n",
              "    [theme=dark] .colab-df-convert:hover {\n",
              "      background-color: #434B5C;\n",
              "      box-shadow: 0px 1px 3px 1px rgba(0, 0, 0, 0.15);\n",
              "      filter: drop-shadow(0px 1px 2px rgba(0, 0, 0, 0.3));\n",
              "      fill: #FFFFFF;\n",
              "    }\n",
              "  </style>\n",
              "\n",
              "    <script>\n",
              "      const buttonEl =\n",
              "        document.querySelector('#df-4a83e155-ea25-454f-aa24-73ed45ef91a3 button.colab-df-convert');\n",
              "      buttonEl.style.display =\n",
              "        google.colab.kernel.accessAllowed ? 'block' : 'none';\n",
              "\n",
              "      async function convertToInteractive(key) {\n",
              "        const element = document.querySelector('#df-4a83e155-ea25-454f-aa24-73ed45ef91a3');\n",
              "        const dataTable =\n",
              "          await google.colab.kernel.invokeFunction('convertToInteractive',\n",
              "                                                    [key], {});\n",
              "        if (!dataTable) return;\n",
              "\n",
              "        const docLinkHtml = 'Like what you see? Visit the ' +\n",
              "          '<a target=\"_blank\" href=https://colab.research.google.com/notebooks/data_table.ipynb>data table notebook</a>'\n",
              "          + ' to learn more about interactive tables.';\n",
              "        element.innerHTML = '';\n",
              "        dataTable['output_type'] = 'display_data';\n",
              "        await google.colab.output.renderOutput(dataTable, element);\n",
              "        const docLink = document.createElement('div');\n",
              "        docLink.innerHTML = docLinkHtml;\n",
              "        element.appendChild(docLink);\n",
              "      }\n",
              "    </script>\n",
              "  </div>\n",
              "\n",
              "\n",
              "    <div id=\"df-b9ae6c0e-0a5d-4588-870e-1c769a41a002\">\n",
              "      <button class=\"colab-df-quickchart\" onclick=\"quickchart('df-b9ae6c0e-0a5d-4588-870e-1c769a41a002')\"\n",
              "                title=\"Suggest charts\"\n",
              "                style=\"display:none;\">\n",
              "\n",
              "<svg xmlns=\"http://www.w3.org/2000/svg\" height=\"24px\"viewBox=\"0 0 24 24\"\n",
              "     width=\"24px\">\n",
              "    <g>\n",
              "        <path d=\"M19 3H5c-1.1 0-2 .9-2 2v14c0 1.1.9 2 2 2h14c1.1 0 2-.9 2-2V5c0-1.1-.9-2-2-2zM9 17H7v-7h2v7zm4 0h-2V7h2v10zm4 0h-2v-4h2v4z\"/>\n",
              "    </g>\n",
              "</svg>\n",
              "      </button>\n",
              "\n",
              "<style>\n",
              "  .colab-df-quickchart {\n",
              "      --bg-color: #E8F0FE;\n",
              "      --fill-color: #1967D2;\n",
              "      --hover-bg-color: #E2EBFA;\n",
              "      --hover-fill-color: #174EA6;\n",
              "      --disabled-fill-color: #AAA;\n",
              "      --disabled-bg-color: #DDD;\n",
              "  }\n",
              "\n",
              "  [theme=dark] .colab-df-quickchart {\n",
              "      --bg-color: #3B4455;\n",
              "      --fill-color: #D2E3FC;\n",
              "      --hover-bg-color: #434B5C;\n",
              "      --hover-fill-color: #FFFFFF;\n",
              "      --disabled-bg-color: #3B4455;\n",
              "      --disabled-fill-color: #666;\n",
              "  }\n",
              "\n",
              "  .colab-df-quickchart {\n",
              "    background-color: var(--bg-color);\n",
              "    border: none;\n",
              "    border-radius: 50%;\n",
              "    cursor: pointer;\n",
              "    display: none;\n",
              "    fill: var(--fill-color);\n",
              "    height: 32px;\n",
              "    padding: 0;\n",
              "    width: 32px;\n",
              "  }\n",
              "\n",
              "  .colab-df-quickchart:hover {\n",
              "    background-color: var(--hover-bg-color);\n",
              "    box-shadow: 0 1px 2px rgba(60, 64, 67, 0.3), 0 1px 3px 1px rgba(60, 64, 67, 0.15);\n",
              "    fill: var(--button-hover-fill-color);\n",
              "  }\n",
              "\n",
              "  .colab-df-quickchart-complete:disabled,\n",
              "  .colab-df-quickchart-complete:disabled:hover {\n",
              "    background-color: var(--disabled-bg-color);\n",
              "    fill: var(--disabled-fill-color);\n",
              "    box-shadow: none;\n",
              "  }\n",
              "\n",
              "  .colab-df-spinner {\n",
              "    border: 2px solid var(--fill-color);\n",
              "    border-color: transparent;\n",
              "    border-bottom-color: var(--fill-color);\n",
              "    animation:\n",
              "      spin 1s steps(1) infinite;\n",
              "  }\n",
              "\n",
              "  @keyframes spin {\n",
              "    0% {\n",
              "      border-color: transparent;\n",
              "      border-bottom-color: var(--fill-color);\n",
              "      border-left-color: var(--fill-color);\n",
              "    }\n",
              "    20% {\n",
              "      border-color: transparent;\n",
              "      border-left-color: var(--fill-color);\n",
              "      border-top-color: var(--fill-color);\n",
              "    }\n",
              "    30% {\n",
              "      border-color: transparent;\n",
              "      border-left-color: var(--fill-color);\n",
              "      border-top-color: var(--fill-color);\n",
              "      border-right-color: var(--fill-color);\n",
              "    }\n",
              "    40% {\n",
              "      border-color: transparent;\n",
              "      border-right-color: var(--fill-color);\n",
              "      border-top-color: var(--fill-color);\n",
              "    }\n",
              "    60% {\n",
              "      border-color: transparent;\n",
              "      border-right-color: var(--fill-color);\n",
              "    }\n",
              "    80% {\n",
              "      border-color: transparent;\n",
              "      border-right-color: var(--fill-color);\n",
              "      border-bottom-color: var(--fill-color);\n",
              "    }\n",
              "    90% {\n",
              "      border-color: transparent;\n",
              "      border-bottom-color: var(--fill-color);\n",
              "    }\n",
              "  }\n",
              "</style>\n",
              "\n",
              "      <script>\n",
              "        async function quickchart(key) {\n",
              "          const quickchartButtonEl =\n",
              "            document.querySelector('#' + key + ' button');\n",
              "          quickchartButtonEl.disabled = true;  // To prevent multiple clicks.\n",
              "          quickchartButtonEl.classList.add('colab-df-spinner');\n",
              "          try {\n",
              "            const charts = await google.colab.kernel.invokeFunction(\n",
              "                'suggestCharts', [key], {});\n",
              "          } catch (error) {\n",
              "            console.error('Error during call to suggestCharts:', error);\n",
              "          }\n",
              "          quickchartButtonEl.classList.remove('colab-df-spinner');\n",
              "          quickchartButtonEl.classList.add('colab-df-quickchart-complete');\n",
              "        }\n",
              "        (() => {\n",
              "          let quickchartButtonEl =\n",
              "            document.querySelector('#df-b9ae6c0e-0a5d-4588-870e-1c769a41a002 button');\n",
              "          quickchartButtonEl.style.display =\n",
              "            google.colab.kernel.accessAllowed ? 'block' : 'none';\n",
              "        })();\n",
              "      </script>\n",
              "    </div>\n",
              "\n",
              "    </div>\n",
              "  </div>\n"
            ],
            "application/vnd.google.colaboratory.intrinsic+json": {
              "type": "dataframe",
              "variable_name": "testData",
              "summary": "{\n  \"name\": \"testData\",\n  \"rows\": 39098,\n  \"fields\": [\n    {\n      \"column\": \"id\",\n      \"properties\": {\n        \"dtype\": \"number\",\n        \"std\": 11286,\n        \"min\": 58645,\n        \"max\": 97742,\n        \"num_unique_values\": 39098,\n        \"samples\": [\n          64029,\n          79278,\n          68209\n        ],\n        \"semantic_type\": \"\",\n        \"description\": \"\"\n      }\n    },\n    {\n      \"column\": \"person_age\",\n      \"properties\": {\n        \"dtype\": \"number\",\n        \"std\": 6,\n        \"min\": 20,\n        \"max\": 94,\n        \"num_unique_values\": 52,\n        \"samples\": [\n          43,\n          60,\n          66\n        ],\n        \"semantic_type\": \"\",\n        \"description\": \"\"\n      }\n    },\n    {\n      \"column\": \"person_income\",\n      \"properties\": {\n        \"dtype\": \"number\",\n        \"std\": 37955,\n        \"min\": 4000,\n        \"max\": 1900000,\n        \"num_unique_values\": 2196,\n        \"samples\": [\n          54981,\n          37459,\n          50960\n        ],\n        \"semantic_type\": \"\",\n        \"description\": \"\"\n      }\n    },\n    {\n      \"column\": \"person_home_ownership\",\n      \"properties\": {\n        \"dtype\": \"category\",\n        \"num_unique_values\": 4,\n        \"samples\": [\n          \"MORTGAGE\",\n          \"OTHER\",\n          \"RENT\"\n        ],\n        \"semantic_type\": \"\",\n        \"description\": \"\"\n      }\n    },\n    {\n      \"column\": \"person_emp_length\",\n      \"properties\": {\n        \"dtype\": \"number\",\n        \"std\": 3.8683950398901477,\n        \"min\": 0.0,\n        \"max\": 42.0,\n        \"num_unique_values\": 31,\n        \"samples\": [\n          26.0,\n          15.0,\n          20.0\n        ],\n        \"semantic_type\": \"\",\n        \"description\": \"\"\n      }\n    },\n    {\n      \"column\": \"loan_intent\",\n      \"properties\": {\n        \"dtype\": \"category\",\n        \"num_unique_values\": 6,\n        \"samples\": [\n          \"HOMEIMPROVEMENT\",\n          \"PERSONAL\",\n          \"MEDICAL\"\n        ],\n        \"semantic_type\": \"\",\n        \"description\": \"\"\n      }\n    },\n    {\n      \"column\": \"loan_grade\",\n      \"properties\": {\n        \"dtype\": \"category\",\n        \"num_unique_values\": 7,\n        \"samples\": [\n          \"F\",\n          \"C\",\n          \"B\"\n        ],\n        \"semantic_type\": \"\",\n        \"description\": \"\"\n      }\n    },\n    {\n      \"column\": \"loan_amnt\",\n      \"properties\": {\n        \"dtype\": \"number\",\n        \"std\": 5576,\n        \"min\": 700,\n        \"max\": 35000,\n        \"num_unique_values\": 482,\n        \"samples\": [\n          4975,\n          24800,\n          9575\n        ],\n        \"semantic_type\": \"\",\n        \"description\": \"\"\n      }\n    },\n    {\n      \"column\": \"loan_int_rate\",\n      \"properties\": {\n        \"dtype\": \"number\",\n        \"std\": 3.020219615559393,\n        \"min\": 5.42,\n        \"max\": 22.11,\n        \"num_unique_values\": 336,\n        \"samples\": [\n          10.75,\n          21.21,\n          13.75\n        ],\n        \"semantic_type\": \"\",\n        \"description\": \"\"\n      }\n    },\n    {\n      \"column\": \"loan_percent_income\",\n      \"properties\": {\n        \"dtype\": \"number\",\n        \"std\": 0.09163339703758701,\n        \"min\": 0.0,\n        \"max\": 0.73,\n        \"num_unique_values\": 63,\n        \"samples\": [\n          0.6,\n          0.52,\n          0.36\n        ],\n        \"semantic_type\": \"\",\n        \"description\": \"\"\n      }\n    },\n    {\n      \"column\": \"cb_person_default_on_file\",\n      \"properties\": {\n        \"dtype\": \"category\",\n        \"num_unique_values\": 2,\n        \"samples\": [\n          \"Y\",\n          \"N\"\n        ],\n        \"semantic_type\": \"\",\n        \"description\": \"\"\n      }\n    },\n    {\n      \"column\": \"cb_person_cred_hist_length\",\n      \"properties\": {\n        \"dtype\": \"number\",\n        \"std\": 4,\n        \"min\": 2,\n        \"max\": 30,\n        \"num_unique_values\": 29,\n        \"samples\": [\n          27,\n          14\n        ],\n        \"semantic_type\": \"\",\n        \"description\": \"\"\n      }\n    }\n  ]\n}"
            }
          },
          "metadata": {},
          "execution_count": 4
        }
      ]
    },
    {
      "cell_type": "code",
      "source": [
        "trainData.columns,testData.columns"
      ],
      "metadata": {
        "colab": {
          "base_uri": "https://localhost:8080/"
        },
        "id": "mMMRPW36iYoV",
        "outputId": "fcfc6a52-1d75-4740-f8b3-3ca21ec1fbfb"
      },
      "execution_count": 5,
      "outputs": [
        {
          "output_type": "execute_result",
          "data": {
            "text/plain": [
              "(Index(['id', 'person_age', 'person_income', 'person_home_ownership',\n",
              "        'person_emp_length', 'loan_intent', 'loan_grade', 'loan_amnt',\n",
              "        'loan_int_rate', 'loan_percent_income', 'cb_person_default_on_file',\n",
              "        'cb_person_cred_hist_length', 'loan_status'],\n",
              "       dtype='object'),\n",
              " Index(['id', 'person_age', 'person_income', 'person_home_ownership',\n",
              "        'person_emp_length', 'loan_intent', 'loan_grade', 'loan_amnt',\n",
              "        'loan_int_rate', 'loan_percent_income', 'cb_person_default_on_file',\n",
              "        'cb_person_cred_hist_length'],\n",
              "       dtype='object'))"
            ]
          },
          "metadata": {},
          "execution_count": 5
        }
      ]
    },
    {
      "cell_type": "code",
      "source": [
        "y_train=trainData['loan_status']\n",
        "x_train=trainData.drop('loan_status',axis=1)\n",
        "x_test=testData"
      ],
      "metadata": {
        "id": "fhNiAw_jiai9"
      },
      "execution_count": 6,
      "outputs": []
    },
    {
      "cell_type": "code",
      "source": [
        "print(y_train.shape)\n",
        "print(x_train.shape)\n",
        "print(x_test.shape)"
      ],
      "metadata": {
        "colab": {
          "base_uri": "https://localhost:8080/"
        },
        "id": "ruWIbVndjMjq",
        "outputId": "12c2fef0-9edf-40da-cfe8-3ea9360943e0"
      },
      "execution_count": 7,
      "outputs": [
        {
          "output_type": "stream",
          "name": "stdout",
          "text": [
            "(58645,)\n",
            "(58645, 12)\n",
            "(39098, 12)\n"
          ]
        }
      ]
    },
    {
      "cell_type": "code",
      "source": [
        "# to verify that the length of the features of x_test is equal to  the features of x_train\n",
        "features_test=list(x_test.columns)\n",
        "features_train=list(x_train.columns)\n",
        "print(len(features_test)==len(features_train))"
      ],
      "metadata": {
        "colab": {
          "base_uri": "https://localhost:8080/"
        },
        "id": "ah5EwsHmjnVK",
        "outputId": "92f6001a-a99d-4b5d-e13a-a90a67b647ba"
      },
      "execution_count": 8,
      "outputs": [
        {
          "output_type": "stream",
          "name": "stdout",
          "text": [
            "True\n"
          ]
        }
      ]
    },
    {
      "cell_type": "code",
      "source": [
        "# to verify that the features of x_test matches the features of x_train\n",
        "for i in range(len(features_test)):\n",
        "  if features_test[i]!=features_train[i]:\n",
        "    print(False)\n",
        "\n",
        "\n",
        "\n"
      ],
      "metadata": {
        "id": "pMpz8rBcjtre"
      },
      "execution_count": 9,
      "outputs": []
    },
    {
      "cell_type": "code",
      "source": [
        "x_train.describe()"
      ],
      "metadata": {
        "colab": {
          "base_uri": "https://localhost:8080/",
          "height": 320
        },
        "id": "bC5-J3pqmUzt",
        "outputId": "f860158c-654e-4e62-9fba-94130e778f00"
      },
      "execution_count": 10,
      "outputs": [
        {
          "output_type": "execute_result",
          "data": {
            "text/plain": [
              "                 id    person_age  person_income  person_emp_length  \\\n",
              "count  58645.000000  58645.000000   5.864500e+04       58645.000000   \n",
              "mean   29322.000000     27.550857   6.404617e+04           4.701015   \n",
              "std    16929.497605      6.033216   3.793111e+04           3.959784   \n",
              "min        0.000000     20.000000   4.200000e+03           0.000000   \n",
              "25%    14661.000000     23.000000   4.200000e+04           2.000000   \n",
              "50%    29322.000000     26.000000   5.800000e+04           4.000000   \n",
              "75%    43983.000000     30.000000   7.560000e+04           7.000000   \n",
              "max    58644.000000    123.000000   1.900000e+06         123.000000   \n",
              "\n",
              "          loan_amnt  loan_int_rate  loan_percent_income  \\\n",
              "count  58645.000000   58645.000000         58645.000000   \n",
              "mean    9217.556518      10.677874             0.159238   \n",
              "std     5563.807384       3.034697             0.091692   \n",
              "min      500.000000       5.420000             0.000000   \n",
              "25%     5000.000000       7.880000             0.090000   \n",
              "50%     8000.000000      10.750000             0.140000   \n",
              "75%    12000.000000      12.990000             0.210000   \n",
              "max    35000.000000      23.220000             0.830000   \n",
              "\n",
              "       cb_person_cred_hist_length  \n",
              "count                58645.000000  \n",
              "mean                     5.813556  \n",
              "std                      4.029196  \n",
              "min                      2.000000  \n",
              "25%                      3.000000  \n",
              "50%                      4.000000  \n",
              "75%                      8.000000  \n",
              "max                     30.000000  "
            ],
            "text/html": [
              "\n",
              "  <div id=\"df-35269dba-fcd4-4457-9d69-87a0979da697\" class=\"colab-df-container\">\n",
              "    <div>\n",
              "<style scoped>\n",
              "    .dataframe tbody tr th:only-of-type {\n",
              "        vertical-align: middle;\n",
              "    }\n",
              "\n",
              "    .dataframe tbody tr th {\n",
              "        vertical-align: top;\n",
              "    }\n",
              "\n",
              "    .dataframe thead th {\n",
              "        text-align: right;\n",
              "    }\n",
              "</style>\n",
              "<table border=\"1\" class=\"dataframe\">\n",
              "  <thead>\n",
              "    <tr style=\"text-align: right;\">\n",
              "      <th></th>\n",
              "      <th>id</th>\n",
              "      <th>person_age</th>\n",
              "      <th>person_income</th>\n",
              "      <th>person_emp_length</th>\n",
              "      <th>loan_amnt</th>\n",
              "      <th>loan_int_rate</th>\n",
              "      <th>loan_percent_income</th>\n",
              "      <th>cb_person_cred_hist_length</th>\n",
              "    </tr>\n",
              "  </thead>\n",
              "  <tbody>\n",
              "    <tr>\n",
              "      <th>count</th>\n",
              "      <td>58645.000000</td>\n",
              "      <td>58645.000000</td>\n",
              "      <td>5.864500e+04</td>\n",
              "      <td>58645.000000</td>\n",
              "      <td>58645.000000</td>\n",
              "      <td>58645.000000</td>\n",
              "      <td>58645.000000</td>\n",
              "      <td>58645.000000</td>\n",
              "    </tr>\n",
              "    <tr>\n",
              "      <th>mean</th>\n",
              "      <td>29322.000000</td>\n",
              "      <td>27.550857</td>\n",
              "      <td>6.404617e+04</td>\n",
              "      <td>4.701015</td>\n",
              "      <td>9217.556518</td>\n",
              "      <td>10.677874</td>\n",
              "      <td>0.159238</td>\n",
              "      <td>5.813556</td>\n",
              "    </tr>\n",
              "    <tr>\n",
              "      <th>std</th>\n",
              "      <td>16929.497605</td>\n",
              "      <td>6.033216</td>\n",
              "      <td>3.793111e+04</td>\n",
              "      <td>3.959784</td>\n",
              "      <td>5563.807384</td>\n",
              "      <td>3.034697</td>\n",
              "      <td>0.091692</td>\n",
              "      <td>4.029196</td>\n",
              "    </tr>\n",
              "    <tr>\n",
              "      <th>min</th>\n",
              "      <td>0.000000</td>\n",
              "      <td>20.000000</td>\n",
              "      <td>4.200000e+03</td>\n",
              "      <td>0.000000</td>\n",
              "      <td>500.000000</td>\n",
              "      <td>5.420000</td>\n",
              "      <td>0.000000</td>\n",
              "      <td>2.000000</td>\n",
              "    </tr>\n",
              "    <tr>\n",
              "      <th>25%</th>\n",
              "      <td>14661.000000</td>\n",
              "      <td>23.000000</td>\n",
              "      <td>4.200000e+04</td>\n",
              "      <td>2.000000</td>\n",
              "      <td>5000.000000</td>\n",
              "      <td>7.880000</td>\n",
              "      <td>0.090000</td>\n",
              "      <td>3.000000</td>\n",
              "    </tr>\n",
              "    <tr>\n",
              "      <th>50%</th>\n",
              "      <td>29322.000000</td>\n",
              "      <td>26.000000</td>\n",
              "      <td>5.800000e+04</td>\n",
              "      <td>4.000000</td>\n",
              "      <td>8000.000000</td>\n",
              "      <td>10.750000</td>\n",
              "      <td>0.140000</td>\n",
              "      <td>4.000000</td>\n",
              "    </tr>\n",
              "    <tr>\n",
              "      <th>75%</th>\n",
              "      <td>43983.000000</td>\n",
              "      <td>30.000000</td>\n",
              "      <td>7.560000e+04</td>\n",
              "      <td>7.000000</td>\n",
              "      <td>12000.000000</td>\n",
              "      <td>12.990000</td>\n",
              "      <td>0.210000</td>\n",
              "      <td>8.000000</td>\n",
              "    </tr>\n",
              "    <tr>\n",
              "      <th>max</th>\n",
              "      <td>58644.000000</td>\n",
              "      <td>123.000000</td>\n",
              "      <td>1.900000e+06</td>\n",
              "      <td>123.000000</td>\n",
              "      <td>35000.000000</td>\n",
              "      <td>23.220000</td>\n",
              "      <td>0.830000</td>\n",
              "      <td>30.000000</td>\n",
              "    </tr>\n",
              "  </tbody>\n",
              "</table>\n",
              "</div>\n",
              "    <div class=\"colab-df-buttons\">\n",
              "\n",
              "  <div class=\"colab-df-container\">\n",
              "    <button class=\"colab-df-convert\" onclick=\"convertToInteractive('df-35269dba-fcd4-4457-9d69-87a0979da697')\"\n",
              "            title=\"Convert this dataframe to an interactive table.\"\n",
              "            style=\"display:none;\">\n",
              "\n",
              "  <svg xmlns=\"http://www.w3.org/2000/svg\" height=\"24px\" viewBox=\"0 -960 960 960\">\n",
              "    <path d=\"M120-120v-720h720v720H120Zm60-500h600v-160H180v160Zm220 220h160v-160H400v160Zm0 220h160v-160H400v160ZM180-400h160v-160H180v160Zm440 0h160v-160H620v160ZM180-180h160v-160H180v160Zm440 0h160v-160H620v160Z\"/>\n",
              "  </svg>\n",
              "    </button>\n",
              "\n",
              "  <style>\n",
              "    .colab-df-container {\n",
              "      display:flex;\n",
              "      gap: 12px;\n",
              "    }\n",
              "\n",
              "    .colab-df-convert {\n",
              "      background-color: #E8F0FE;\n",
              "      border: none;\n",
              "      border-radius: 50%;\n",
              "      cursor: pointer;\n",
              "      display: none;\n",
              "      fill: #1967D2;\n",
              "      height: 32px;\n",
              "      padding: 0 0 0 0;\n",
              "      width: 32px;\n",
              "    }\n",
              "\n",
              "    .colab-df-convert:hover {\n",
              "      background-color: #E2EBFA;\n",
              "      box-shadow: 0px 1px 2px rgba(60, 64, 67, 0.3), 0px 1px 3px 1px rgba(60, 64, 67, 0.15);\n",
              "      fill: #174EA6;\n",
              "    }\n",
              "\n",
              "    .colab-df-buttons div {\n",
              "      margin-bottom: 4px;\n",
              "    }\n",
              "\n",
              "    [theme=dark] .colab-df-convert {\n",
              "      background-color: #3B4455;\n",
              "      fill: #D2E3FC;\n",
              "    }\n",
              "\n",
              "    [theme=dark] .colab-df-convert:hover {\n",
              "      background-color: #434B5C;\n",
              "      box-shadow: 0px 1px 3px 1px rgba(0, 0, 0, 0.15);\n",
              "      filter: drop-shadow(0px 1px 2px rgba(0, 0, 0, 0.3));\n",
              "      fill: #FFFFFF;\n",
              "    }\n",
              "  </style>\n",
              "\n",
              "    <script>\n",
              "      const buttonEl =\n",
              "        document.querySelector('#df-35269dba-fcd4-4457-9d69-87a0979da697 button.colab-df-convert');\n",
              "      buttonEl.style.display =\n",
              "        google.colab.kernel.accessAllowed ? 'block' : 'none';\n",
              "\n",
              "      async function convertToInteractive(key) {\n",
              "        const element = document.querySelector('#df-35269dba-fcd4-4457-9d69-87a0979da697');\n",
              "        const dataTable =\n",
              "          await google.colab.kernel.invokeFunction('convertToInteractive',\n",
              "                                                    [key], {});\n",
              "        if (!dataTable) return;\n",
              "\n",
              "        const docLinkHtml = 'Like what you see? Visit the ' +\n",
              "          '<a target=\"_blank\" href=https://colab.research.google.com/notebooks/data_table.ipynb>data table notebook</a>'\n",
              "          + ' to learn more about interactive tables.';\n",
              "        element.innerHTML = '';\n",
              "        dataTable['output_type'] = 'display_data';\n",
              "        await google.colab.output.renderOutput(dataTable, element);\n",
              "        const docLink = document.createElement('div');\n",
              "        docLink.innerHTML = docLinkHtml;\n",
              "        element.appendChild(docLink);\n",
              "      }\n",
              "    </script>\n",
              "  </div>\n",
              "\n",
              "\n",
              "    <div id=\"df-8fb7d4b3-da57-48b6-b829-ecc0b69b3623\">\n",
              "      <button class=\"colab-df-quickchart\" onclick=\"quickchart('df-8fb7d4b3-da57-48b6-b829-ecc0b69b3623')\"\n",
              "                title=\"Suggest charts\"\n",
              "                style=\"display:none;\">\n",
              "\n",
              "<svg xmlns=\"http://www.w3.org/2000/svg\" height=\"24px\"viewBox=\"0 0 24 24\"\n",
              "     width=\"24px\">\n",
              "    <g>\n",
              "        <path d=\"M19 3H5c-1.1 0-2 .9-2 2v14c0 1.1.9 2 2 2h14c1.1 0 2-.9 2-2V5c0-1.1-.9-2-2-2zM9 17H7v-7h2v7zm4 0h-2V7h2v10zm4 0h-2v-4h2v4z\"/>\n",
              "    </g>\n",
              "</svg>\n",
              "      </button>\n",
              "\n",
              "<style>\n",
              "  .colab-df-quickchart {\n",
              "      --bg-color: #E8F0FE;\n",
              "      --fill-color: #1967D2;\n",
              "      --hover-bg-color: #E2EBFA;\n",
              "      --hover-fill-color: #174EA6;\n",
              "      --disabled-fill-color: #AAA;\n",
              "      --disabled-bg-color: #DDD;\n",
              "  }\n",
              "\n",
              "  [theme=dark] .colab-df-quickchart {\n",
              "      --bg-color: #3B4455;\n",
              "      --fill-color: #D2E3FC;\n",
              "      --hover-bg-color: #434B5C;\n",
              "      --hover-fill-color: #FFFFFF;\n",
              "      --disabled-bg-color: #3B4455;\n",
              "      --disabled-fill-color: #666;\n",
              "  }\n",
              "\n",
              "  .colab-df-quickchart {\n",
              "    background-color: var(--bg-color);\n",
              "    border: none;\n",
              "    border-radius: 50%;\n",
              "    cursor: pointer;\n",
              "    display: none;\n",
              "    fill: var(--fill-color);\n",
              "    height: 32px;\n",
              "    padding: 0;\n",
              "    width: 32px;\n",
              "  }\n",
              "\n",
              "  .colab-df-quickchart:hover {\n",
              "    background-color: var(--hover-bg-color);\n",
              "    box-shadow: 0 1px 2px rgba(60, 64, 67, 0.3), 0 1px 3px 1px rgba(60, 64, 67, 0.15);\n",
              "    fill: var(--button-hover-fill-color);\n",
              "  }\n",
              "\n",
              "  .colab-df-quickchart-complete:disabled,\n",
              "  .colab-df-quickchart-complete:disabled:hover {\n",
              "    background-color: var(--disabled-bg-color);\n",
              "    fill: var(--disabled-fill-color);\n",
              "    box-shadow: none;\n",
              "  }\n",
              "\n",
              "  .colab-df-spinner {\n",
              "    border: 2px solid var(--fill-color);\n",
              "    border-color: transparent;\n",
              "    border-bottom-color: var(--fill-color);\n",
              "    animation:\n",
              "      spin 1s steps(1) infinite;\n",
              "  }\n",
              "\n",
              "  @keyframes spin {\n",
              "    0% {\n",
              "      border-color: transparent;\n",
              "      border-bottom-color: var(--fill-color);\n",
              "      border-left-color: var(--fill-color);\n",
              "    }\n",
              "    20% {\n",
              "      border-color: transparent;\n",
              "      border-left-color: var(--fill-color);\n",
              "      border-top-color: var(--fill-color);\n",
              "    }\n",
              "    30% {\n",
              "      border-color: transparent;\n",
              "      border-left-color: var(--fill-color);\n",
              "      border-top-color: var(--fill-color);\n",
              "      border-right-color: var(--fill-color);\n",
              "    }\n",
              "    40% {\n",
              "      border-color: transparent;\n",
              "      border-right-color: var(--fill-color);\n",
              "      border-top-color: var(--fill-color);\n",
              "    }\n",
              "    60% {\n",
              "      border-color: transparent;\n",
              "      border-right-color: var(--fill-color);\n",
              "    }\n",
              "    80% {\n",
              "      border-color: transparent;\n",
              "      border-right-color: var(--fill-color);\n",
              "      border-bottom-color: var(--fill-color);\n",
              "    }\n",
              "    90% {\n",
              "      border-color: transparent;\n",
              "      border-bottom-color: var(--fill-color);\n",
              "    }\n",
              "  }\n",
              "</style>\n",
              "\n",
              "      <script>\n",
              "        async function quickchart(key) {\n",
              "          const quickchartButtonEl =\n",
              "            document.querySelector('#' + key + ' button');\n",
              "          quickchartButtonEl.disabled = true;  // To prevent multiple clicks.\n",
              "          quickchartButtonEl.classList.add('colab-df-spinner');\n",
              "          try {\n",
              "            const charts = await google.colab.kernel.invokeFunction(\n",
              "                'suggestCharts', [key], {});\n",
              "          } catch (error) {\n",
              "            console.error('Error during call to suggestCharts:', error);\n",
              "          }\n",
              "          quickchartButtonEl.classList.remove('colab-df-spinner');\n",
              "          quickchartButtonEl.classList.add('colab-df-quickchart-complete');\n",
              "        }\n",
              "        (() => {\n",
              "          let quickchartButtonEl =\n",
              "            document.querySelector('#df-8fb7d4b3-da57-48b6-b829-ecc0b69b3623 button');\n",
              "          quickchartButtonEl.style.display =\n",
              "            google.colab.kernel.accessAllowed ? 'block' : 'none';\n",
              "        })();\n",
              "      </script>\n",
              "    </div>\n",
              "\n",
              "    </div>\n",
              "  </div>\n"
            ],
            "application/vnd.google.colaboratory.intrinsic+json": {
              "type": "dataframe",
              "summary": "{\n  \"name\": \"x_train\",\n  \"rows\": 8,\n  \"fields\": [\n    {\n      \"column\": \"id\",\n      \"properties\": {\n        \"dtype\": \"number\",\n        \"std\": 21135.722759476877,\n        \"min\": 0.0,\n        \"max\": 58645.0,\n        \"num_unique_values\": 7,\n        \"samples\": [\n          58645.0,\n          29322.0,\n          43983.0\n        ],\n        \"semantic_type\": \"\",\n        \"description\": \"\"\n      }\n    },\n    {\n      \"column\": \"person_age\",\n      \"properties\": {\n        \"dtype\": \"number\",\n        \"std\": 20721.261006641074,\n        \"min\": 6.033215771226305,\n        \"max\": 58645.0,\n        \"num_unique_values\": 8,\n        \"samples\": [\n          27.550856850541393,\n          26.0,\n          58645.0\n        ],\n        \"semantic_type\": \"\",\n        \"description\": \"\"\n      }\n    },\n    {\n      \"column\": \"person_income\",\n      \"properties\": {\n        \"dtype\": \"number\",\n        \"std\": 654915.9616922975,\n        \"min\": 4200.0,\n        \"max\": 1900000.0,\n        \"num_unique_values\": 8,\n        \"samples\": [\n          64046.17287066246,\n          58000.0,\n          58645.0\n        ],\n        \"semantic_type\": \"\",\n        \"description\": \"\"\n      }\n    },\n    {\n      \"column\": \"person_emp_length\",\n      \"properties\": {\n        \"dtype\": \"number\",\n        \"std\": 20726.87432045951,\n        \"min\": 0.0,\n        \"max\": 58645.0,\n        \"num_unique_values\": 8,\n        \"samples\": [\n          4.701014579248017,\n          4.0,\n          58645.0\n        ],\n        \"semantic_type\": \"\",\n        \"description\": \"\"\n      }\n    },\n    {\n      \"column\": \"loan_amnt\",\n      \"properties\": {\n        \"dtype\": \"number\",\n        \"std\": 19897.49250987335,\n        \"min\": 500.0,\n        \"max\": 58645.0,\n        \"num_unique_values\": 8,\n        \"samples\": [\n          9217.556518032228,\n          8000.0,\n          58645.0\n        ],\n        \"semantic_type\": \"\",\n        \"description\": \"\"\n      }\n    },\n    {\n      \"column\": \"loan_int_rate\",\n      \"properties\": {\n        \"dtype\": \"number\",\n        \"std\": 20730.40329593108,\n        \"min\": 3.0346972031377084,\n        \"max\": 58645.0,\n        \"num_unique_values\": 8,\n        \"samples\": [\n          10.67787449910478,\n          10.75,\n          58645.0\n        ],\n        \"semantic_type\": \"\",\n        \"description\": \"\"\n      }\n    },\n    {\n      \"column\": \"loan_percent_income\",\n      \"properties\": {\n        \"dtype\": \"number\",\n        \"std\": 20734.061774410555,\n        \"min\": 0.0,\n        \"max\": 58645.0,\n        \"num_unique_values\": 8,\n        \"samples\": [\n          0.15923751385454857,\n          0.14,\n          58645.0\n        ],\n        \"semantic_type\": \"\",\n        \"description\": \"\"\n      }\n    },\n    {\n      \"column\": \"cb_person_cred_hist_length\",\n      \"properties\": {\n        \"dtype\": \"number\",\n        \"std\": 20731.269602143937,\n        \"min\": 2.0,\n        \"max\": 58645.0,\n        \"num_unique_values\": 8,\n        \"samples\": [\n          5.813556142893682,\n          4.0,\n          58645.0\n        ],\n        \"semantic_type\": \"\",\n        \"description\": \"\"\n      }\n    }\n  ]\n}"
            }
          },
          "metadata": {},
          "execution_count": 10
        }
      ]
    },
    {
      "cell_type": "code",
      "source": [
        "x_train.info()"
      ],
      "metadata": {
        "colab": {
          "base_uri": "https://localhost:8080/"
        },
        "id": "3pbo5mQKpaPH",
        "outputId": "8119c4a6-a088-4886-f46d-2f579b6afe1c"
      },
      "execution_count": 11,
      "outputs": [
        {
          "output_type": "stream",
          "name": "stdout",
          "text": [
            "<class 'pandas.core.frame.DataFrame'>\n",
            "RangeIndex: 58645 entries, 0 to 58644\n",
            "Data columns (total 12 columns):\n",
            " #   Column                      Non-Null Count  Dtype  \n",
            "---  ------                      --------------  -----  \n",
            " 0   id                          58645 non-null  int64  \n",
            " 1   person_age                  58645 non-null  int64  \n",
            " 2   person_income               58645 non-null  int64  \n",
            " 3   person_home_ownership       58645 non-null  object \n",
            " 4   person_emp_length           58645 non-null  float64\n",
            " 5   loan_intent                 58645 non-null  object \n",
            " 6   loan_grade                  58645 non-null  object \n",
            " 7   loan_amnt                   58645 non-null  int64  \n",
            " 8   loan_int_rate               58645 non-null  float64\n",
            " 9   loan_percent_income         58645 non-null  float64\n",
            " 10  cb_person_default_on_file   58645 non-null  object \n",
            " 11  cb_person_cred_hist_length  58645 non-null  int64  \n",
            "dtypes: float64(3), int64(5), object(4)\n",
            "memory usage: 5.4+ MB\n"
          ]
        }
      ]
    },
    {
      "cell_type": "code",
      "source": [
        "x_test.info()"
      ],
      "metadata": {
        "colab": {
          "base_uri": "https://localhost:8080/"
        },
        "id": "VSm-kiTypwi9",
        "outputId": "9575c2e0-6961-4725-b09d-b73f176cba88"
      },
      "execution_count": 12,
      "outputs": [
        {
          "output_type": "stream",
          "name": "stdout",
          "text": [
            "<class 'pandas.core.frame.DataFrame'>\n",
            "RangeIndex: 39098 entries, 0 to 39097\n",
            "Data columns (total 12 columns):\n",
            " #   Column                      Non-Null Count  Dtype  \n",
            "---  ------                      --------------  -----  \n",
            " 0   id                          39098 non-null  int64  \n",
            " 1   person_age                  39098 non-null  int64  \n",
            " 2   person_income               39098 non-null  int64  \n",
            " 3   person_home_ownership       39098 non-null  object \n",
            " 4   person_emp_length           39098 non-null  float64\n",
            " 5   loan_intent                 39098 non-null  object \n",
            " 6   loan_grade                  39098 non-null  object \n",
            " 7   loan_amnt                   39098 non-null  int64  \n",
            " 8   loan_int_rate               39098 non-null  float64\n",
            " 9   loan_percent_income         39098 non-null  float64\n",
            " 10  cb_person_default_on_file   39098 non-null  object \n",
            " 11  cb_person_cred_hist_length  39098 non-null  int64  \n",
            "dtypes: float64(3), int64(5), object(4)\n",
            "memory usage: 3.6+ MB\n"
          ]
        }
      ]
    },
    {
      "cell_type": "code",
      "source": [
        "categorical_features=x_train.select_dtypes(include=['object']).columns\n",
        "numerical_features=x_train.select_dtypes(exclude=['object']).columns"
      ],
      "metadata": {
        "id": "5ss9OPOcth1u"
      },
      "execution_count": 13,
      "outputs": []
    },
    {
      "cell_type": "code",
      "source": [
        "categorical_features"
      ],
      "metadata": {
        "colab": {
          "base_uri": "https://localhost:8080/"
        },
        "id": "OZnpz3UPu9qX",
        "outputId": "26d4ebaa-1f6b-4a0a-e4ef-0c3f80ae1461"
      },
      "execution_count": 14,
      "outputs": [
        {
          "output_type": "execute_result",
          "data": {
            "text/plain": [
              "Index(['person_home_ownership', 'loan_intent', 'loan_grade',\n",
              "       'cb_person_default_on_file'],\n",
              "      dtype='object')"
            ]
          },
          "metadata": {},
          "execution_count": 14
        }
      ]
    },
    {
      "cell_type": "code",
      "source": [
        "numerical_features"
      ],
      "metadata": {
        "colab": {
          "base_uri": "https://localhost:8080/"
        },
        "id": "9pJRIbfvu_iF",
        "outputId": "d5706f5f-f441-433f-f9ff-feb82c802e9e"
      },
      "execution_count": 15,
      "outputs": [
        {
          "output_type": "execute_result",
          "data": {
            "text/plain": [
              "Index(['id', 'person_age', 'person_income', 'person_emp_length', 'loan_amnt',\n",
              "       'loan_int_rate', 'loan_percent_income', 'cb_person_cred_hist_length'],\n",
              "      dtype='object')"
            ]
          },
          "metadata": {},
          "execution_count": 15
        }
      ]
    },
    {
      "cell_type": "code",
      "source": [
        "#verifying if the ids of x_test are different , samething for x_test\n",
        "\n",
        "if x_test['id'].is_unique:\n",
        "    print(\" all the IDs are different  \")"
      ],
      "metadata": {
        "colab": {
          "base_uri": "https://localhost:8080/"
        },
        "id": "QbvfV8J3xPHW",
        "outputId": "990651f3-59af-4e37-dc55-fee4c7d13240"
      },
      "execution_count": 16,
      "outputs": [
        {
          "output_type": "stream",
          "name": "stdout",
          "text": [
            " all the IDs are different  \n"
          ]
        }
      ]
    },
    {
      "cell_type": "code",
      "source": [
        "# keeping the ids of the x_test, but we don't need those of x_train\n",
        "x_train=x_train.drop(columns=['id'])\n",
        "x_test_id=x_test['id']\n",
        "x_test=x_test.drop(columns=['id'])\n",
        "x_test\n",
        "numerical_features=list(numerical_features)\n",
        "numerical_features.remove('id')\n",
        "numerical_features"
      ],
      "metadata": {
        "colab": {
          "base_uri": "https://localhost:8080/"
        },
        "id": "suBX57RXwxDg",
        "outputId": "32a5058d-3e13-46dd-dd06-fae01437ebc8"
      },
      "execution_count": 17,
      "outputs": [
        {
          "output_type": "execute_result",
          "data": {
            "text/plain": [
              "['person_age',\n",
              " 'person_income',\n",
              " 'person_emp_length',\n",
              " 'loan_amnt',\n",
              " 'loan_int_rate',\n",
              " 'loan_percent_income',\n",
              " 'cb_person_cred_hist_length']"
            ]
          },
          "metadata": {},
          "execution_count": 17
        }
      ]
    },
    {
      "cell_type": "code",
      "source": [
        "import pandas as pd\n",
        "import matplotlib.pyplot as plt\n",
        "import seaborn as sns\n",
        "\n",
        "\n",
        "\n",
        "# 1. Basic info about the target\n",
        "print(\"Target value counts:\")\n",
        "print(trainData['loan_status'].value_counts())\n",
        "print(\"\\nTarget class proportions:\")\n",
        "print(trainData['loan_status'].value_counts(normalize=True))\n",
        "\n",
        "\n"
      ],
      "metadata": {
        "colab": {
          "base_uri": "https://localhost:8080/"
        },
        "id": "ZxmNZ09E9Mbq",
        "outputId": "1cc4584e-b9cb-4a2f-91f9-76cd7c5cdb34"
      },
      "execution_count": 18,
      "outputs": [
        {
          "output_type": "stream",
          "name": "stdout",
          "text": [
            "Target value counts:\n",
            "loan_status\n",
            "0    50295\n",
            "1     8350\n",
            "Name: count, dtype: int64\n",
            "\n",
            "Target class proportions:\n",
            "loan_status\n",
            "0    0.857618\n",
            "1    0.142382\n",
            "Name: proportion, dtype: float64\n"
          ]
        }
      ]
    },
    {
      "cell_type": "code",
      "source": [
        "# 2. Visualize class distribution\n",
        "plt.figure(figsize=(6,4))\n",
        "sns.countplot(x='loan_status', data=trainData, palette='Set2')\n",
        "plt.title('Loan Status Distribution')\n",
        "plt.xlabel('Loan Status')\n",
        "plt.ylabel('Count')\n",
        "plt.show()\n",
        "\n"
      ],
      "metadata": {
        "colab": {
          "base_uri": "https://localhost:8080/",
          "height": 517
        },
        "id": "U8y14ZEE9tZA",
        "outputId": "583b944f-65e6-44c7-dde7-c9c628574f54"
      },
      "execution_count": 19,
      "outputs": [
        {
          "output_type": "stream",
          "name": "stderr",
          "text": [
            "/tmp/ipython-input-2439430137.py:3: FutureWarning: \n",
            "\n",
            "Passing `palette` without assigning `hue` is deprecated and will be removed in v0.14.0. Assign the `x` variable to `hue` and set `legend=False` for the same effect.\n",
            "\n",
            "  sns.countplot(x='loan_status', data=trainData, palette='Set2')\n"
          ]
        },
        {
          "output_type": "display_data",
          "data": {
            "text/plain": [
              "<Figure size 600x400 with 1 Axes>"
            ],
            "image/png": "[encoded data removed]"
          },
          "metadata": {}
        }
      ]
    },
    {
      "cell_type": "code",
      "source": [
        "# 3. Check for imbalance\n",
        "imbalance_ratio = trainData['loan_status'].value_counts(normalize=True).max()\n",
        "print(f\"\\nImbalance ratio (majority class proportion): {imbalance_ratio:.2f}\")\n",
        "\n"
      ],
      "metadata": {
        "colab": {
          "base_uri": "https://localhost:8080/"
        },
        "id": "teVFrOE__bcY",
        "outputId": "b236095a-c385-41cb-c7cd-5e529c589245"
      },
      "execution_count": 20,
      "outputs": [
        {
          "output_type": "stream",
          "name": "stdout",
          "text": [
            "\n",
            "Imbalance ratio (majority class proportion): 0.86\n"
          ]
        }
      ]
    },
    {
      "cell_type": "code",
      "source": [
        "# 4. Grouped stats by target\n",
        "grouped = trainData.groupby('loan_status').mean(numeric_only=True)\n",
        "print(\"\\nMean values of numerical features by loan status:\")\n",
        "print(grouped)\n",
        "\n"
      ],
      "metadata": {
        "colab": {
          "base_uri": "https://localhost:8080/"
        },
        "id": "91BDGngCAelY",
        "outputId": "ec9851ac-21dc-4c13-bd90-71f51a44149d"
      },
      "execution_count": 21,
      "outputs": [
        {
          "output_type": "stream",
          "name": "stdout",
          "text": [
            "\n",
            "Mean values of numerical features by loan status:\n",
            "                       id  person_age  person_income  person_emp_length  \\\n",
            "loan_status                                                               \n",
            "0            29378.138682   27.553634   66672.867720           4.863048   \n",
            "1            28983.856886   27.534132   48224.661796           3.725030   \n",
            "\n",
            "                loan_amnt  loan_int_rate  loan_percent_income  \\\n",
            "loan_status                                                     \n",
            "0             8888.883229      10.258767             0.145105   \n",
            "1            11197.271856      13.202305             0.244363   \n",
            "\n",
            "             cb_person_cred_hist_length  \n",
            "loan_status                              \n",
            "0                              5.818531  \n",
            "1                              5.783593  \n"
          ]
        }
      ]
    },
    {
      "cell_type": "code",
      "source": [
        "\n",
        "\n",
        "# Exemple pour 'loan_grade'\n",
        "for cat_feature in categorical_features:\n",
        "  prop_df = trainData.groupby(cat_feature)['loan_status'].value_counts(normalize=True).rename('proportion').reset_index()\n",
        "  plt.figure(figsize=(8,5))\n",
        "  sns.barplot(x=cat_feature, y='proportion', hue='loan_status', data=prop_df, palette='Set2')\n",
        "  plt.title(f'Proportion loan status/ {cat_feature}')\n",
        "  plt.ylabel('Proportion')\n",
        "  plt.xlabel(cat_feature)\n",
        "  plt.legend(title='Loan Status')\n",
        "  plt.show()\n",
        "\n",
        "\n"
      ],
      "metadata": {
        "colab": {
          "base_uri": "https://localhost:8080/",
          "height": 1000
        },
        "id": "s5xF-d_UAlfj",
        "outputId": "be972b24-1f71-428c-d512-1f66e70fe5b8"
      },
      "execution_count": 22,
      "outputs": [
        {
          "output_type": "display_data",
          "data": {
            "text/plain": [
              "<Figure size 800x500 with 1 Axes>"
            ],
            "image/png": "[encoded data removed]"
          },
          "metadata": {}
        },
        {
          "output_type": "display_data",
          "data": {
            "text/plain": [
              "<Figure size 800x500 with 1 Axes>"
            ],
            "image/png": "[encoded data removed]"
          },
          "metadata": {}
        },
        {
          "output_type": "display_data",
          "data": {
            "text/plain": [
              "<Figure size 800x500 with 1 Axes>"
            ],
            "image/png": "[encoded data removed]"
          },
          "metadata": {}
        },
        {
          "output_type": "display_data",
          "data": {
            "text/plain": [
              "<Figure size 800x500 with 1 Axes>"
            ],
            "image/png": "[encoded data removed]"
          },
          "metadata": {}
        }
      ]
    },
    {
      "cell_type": "code",
      "source": [
        "# numerical features analysis\n",
        "\n",
        "\n",
        "\n",
        "numerical_features = [\n",
        "    'person_age', 'person_income', 'loan_amnt',\n",
        "    'loan_int_rate', 'loan_percent_income', 'cb_person_cred_hist_length'\n",
        "]\n",
        "\n",
        "for feature in numerical_features:\n",
        "    plt.figure(figsize=(8, 4))\n",
        "    sns.histplot(data=trainData, x=feature, hue='loan_status', kde=True, element='step', palette='Set2')\n",
        "    plt.title(f'Distribution of {feature} by Loan Status')\n",
        "    plt.xlabel(feature)\n",
        "    plt.ylabel('Frequency')\n",
        "    plt.tight_layout()\n",
        "    plt.show()\n"
      ],
      "metadata": {
        "colab": {
          "base_uri": "https://localhost:8080/",
          "height": 1000
        },
        "id": "BpLhgo-bLIpF",
        "outputId": "df565bb6-cba9-4956-8473-c23530ec7126"
      },
      "execution_count": 23,
      "outputs": [
        {
          "output_type": "display_data",
          "data": {
            "text/plain": [
              "<Figure size 800x400 with 1 Axes>"
            ],
            "image/png": "[encoded data removed]"
          },
          "metadata": {}
        },
        {
          "output_type": "display_data",
          "data": {
            "text/plain": [
              "<Figure size 800x400 with 1 Axes>"
            ],
            "image/png": "[encoded data removed]"
          },
          "metadata": {}
        },
        {
          "output_type": "display_data",
          "data": {
            "text/plain": [
              "<Figure size 800x400 with 1 Axes>"
            ],
            "image/png": "[encoded data removed]"
          },
          "metadata": {}
        },
        {
          "output_type": "display_data",
          "data": {
            "text/plain": [
              "<Figure size 800x400 with 1 Axes>"
            ],
            "image/png": "[encoded data removed]"
          },
          "metadata": {}
        },
        {
          "output_type": "display_data",
          "data": {
            "text/plain": [
              "<Figure size 800x400 with 1 Axes>"
            ],
            "image/png": "[encoded data removed]"
          },
          "metadata": {}
        },
        {
          "output_type": "display_data",
          "data": {
            "text/plain": [
              "<Figure size 800x400 with 1 Axes>"
            ],
            "image/png": "[encoded data removed]"
          },
          "metadata": {}
        }
      ]
    },
    {
      "cell_type": "markdown",
      "source": [
        "#Features ingeneering for logistic regression\n",
        "\n",
        "*   One hot encoding for categorical nominal features\n",
        "*   Mapping encoding for categorical ordinal features\n",
        "*   Adding features\n",
        "\n",
        "\n",
        "\n",
        "\n",
        "\n",
        "\n"
      ],
      "metadata": {
        "id": "lul8elJm9M64"
      }
    },
    {
      "cell_type": "markdown",
      "source": [
        "###One hot encoding for categorical nominal features"
      ],
      "metadata": {
        "id": "coP4HVhmeIjp"
      }
    },
    {
      "cell_type": "code",
      "source": [
        "#encoding categorical features\n",
        "x_train_logistic=x_train.copy()\n",
        "x_test_logistic=x_test.copy()\n",
        "\n",
        "nominal_features = ['person_home_ownership', 'loan_intent', 'cb_person_default_on_file']\n",
        "\n",
        "# Initialize the OneHotEncoder\n",
        "encoder = OneHotEncoder(sparse_output=False, handle_unknown='ignore')\n",
        "\n",
        "# Fit and transform the encoder on x_train\n",
        "encoded_train = encoder.fit_transform(x_train_logistic[nominal_features])\n",
        "\n",
        "# Transform x_test using the fitted encoder\n",
        "encoded_test = encoder.transform(x_test_logistic[nominal_features])\n",
        "\n",
        "# Convert the encoded arrays back to DataFrames\n",
        "encoded_train_df = pd.DataFrame(encoded_train, columns=encoder.get_feature_names_out(nominal_features))\n",
        "encoded_test_df = pd.DataFrame(encoded_test, columns=encoder.get_feature_names_out(nominal_features))\n",
        "\n",
        "# Drop the original categorical columns from x_train and x_test\n",
        "x_train_logistic = x_train_logistic.drop(columns=nominal_features)\n",
        "x_test_logistic= x_test_logistic.drop(columns=nominal_features)\n",
        "\n",
        "# Concatenate the encoded columns with the rest of the DataFrame\n",
        "x_train_logistic = pd.concat([x_train_logistic, encoded_train_df], axis=1)\n",
        "x_test_logistic = pd.concat([x_test_logistic, encoded_test_df], axis=1)\n",
        "\n",
        "\n",
        "encoded_train_df.index = x_train_logistic.index\n",
        "encoded_test_df.index = x_test_logistic.index\n",
        "\n"
      ],
      "metadata": {
        "id": "UVteWbeLwdN7"
      },
      "execution_count": 24,
      "outputs": []
    },
    {
      "cell_type": "markdown",
      "source": [
        "###Mapping encoding for categorical ordinal features"
      ],
      "metadata": {
        "id": "G5RtpxiEeEs6"
      }
    },
    {
      "cell_type": "code",
      "source": [
        "ordinal_features = ['loan_grade']\n",
        "ordinal_mapping = {\n",
        "    'A': 0,\n",
        "    'B': 1,\n",
        "    'C': 2,\n",
        "    'D': 3,\n",
        "    'E': 4,\n",
        "    'F': 5,\n",
        "    'G': 6\n",
        "}\n",
        "\n",
        "for df in [x_train_logistic, x_test_logistic]:\n",
        "    df['loan_grade_encoded'] = df['loan_grade'].map(ordinal_mapping)\n",
        "\n",
        "x_train_logistic= x_train_logistic.drop(columns=ordinal_features)\n",
        "x_test_logistic = x_test_logistic.drop(columns=ordinal_features)\n",
        "\n",
        "\n",
        "\n",
        "\n"
      ],
      "metadata": {
        "id": "QCkA9j7C-agK"
      },
      "execution_count": 25,
      "outputs": []
    },
    {
      "cell_type": "markdown",
      "source": [
        "###Adding features relating"
      ],
      "metadata": {
        "id": "6ke3UJrbeayR"
      }
    },
    {
      "cell_type": "code",
      "source": [
        "import pandas as pd\n",
        "import numpy as np\n",
        "from sklearn.preprocessing import OneHotEncoder\n",
        "\n",
        "# =========================\n",
        "# 1️⃣ Ajouter age²\n",
        "# =========================\n",
        "x_train_logistic['age_squared'] = x_train_logistic['person_age'] ** 2\n",
        "x_test_logistic['age_squared'] = x_test_logistic['person_age'] ** 2\n",
        "\n",
        "# =========================\n",
        "# 2️⃣ Ajouter age_bins\n",
        "# =========================\n",
        "bins = [0, 25, 35, 50, 65, 120]\n",
        "labels = [\"18-25\", \"26-35\", \"36-50\", \"51-65\", \"65+\"]\n",
        "x_train_logistic['age_bins'] = pd.cut(x_train_logistic['person_age'], bins=bins, labels=labels)\n",
        "x_test_logistic['age_bins'] = pd.cut(x_test_logistic['person_age'], bins=bins, labels=labels)\n",
        "\n",
        "# =========================\n",
        "# 3️⃣ OneHotEncoder sur age_bins\n",
        "# =========================\n",
        "encoder = OneHotEncoder(sparse_output=False, handle_unknown='ignore')\n",
        "\n",
        "# Fitting sur train\n",
        "encoded_train = encoder.fit_transform(x_train_logistic[['age_bins']])\n",
        "encoded_test = encoder.transform(x_test_logistic[['age_bins']])\n",
        "\n",
        "# Convertir en DataFrame avec le bon index\n",
        "encoded_train_df = pd.DataFrame(encoded_train,\n",
        "                                columns=encoder.get_feature_names_out(['age_bins']),\n",
        "                                index=x_train_logistic.index)\n",
        "\n",
        "encoded_test_df = pd.DataFrame(encoded_test,\n",
        "                               columns=encoder.get_feature_names_out(['age_bins']),\n",
        "                               index=x_test_logistic.index)\n",
        "\n",
        "# Supprimer la colonne originale et concaténer\n",
        "x_train_logistic = x_train_logistic.drop(columns=['age_bins'])\n",
        "x_test_logistic = x_test_logistic.drop(columns=['age_bins'])\n",
        "\n",
        "x_train_logistic = pd.concat([x_train_logistic, encoded_train_df], axis=1)\n",
        "x_test_logistic = pd.concat([x_test_logistic, encoded_test_df], axis=1)\n",
        "\n",
        "print(\"x_train_logistic shape:\", x_train_logistic.shape)\n",
        "print(\"x_test_logistic shape:\", x_test_logistic.shape)\n"
      ],
      "metadata": {
        "colab": {
          "base_uri": "https://localhost:8080/"
        },
        "id": "oW3Zd6GBeYZJ",
        "outputId": "61bc1037-4063-4f9b-e37f-1fef838ed79a"
      },
      "execution_count": 26,
      "outputs": [
        {
          "output_type": "stream",
          "name": "stdout",
          "text": [
            "x_train_logistic shape: (58645, 27)\n",
            "x_test_logistic shape: (39098, 27)\n"
          ]
        }
      ]
    },
    {
      "cell_type": "code",
      "source": [
        "import numpy as np\n",
        "import pandas as pd\n",
        "\n",
        "# Créer une fonction pour safe feature engineering\n",
        "def add_features(df):\n",
        "    df = df.copy()\n",
        "\n",
        "    # log_income\n",
        "    if 'person_income' in df.columns:\n",
        "        df['log_income'] = np.log1p(df['person_income'])\n",
        "\n",
        "    # loan_to_income\n",
        "    if all(col in df.columns for col in ['loan_amnt', 'person_income']):\n",
        "        df['loan_to_income'] = df['loan_amnt'] / df['person_income']\n",
        "\n",
        "    # loan_cost\n",
        "    if all(col in df.columns for col in ['loan_amnt', 'loan_int_rate']):\n",
        "        df['loan_cost'] = df['loan_amnt'] * df['loan_int_rate']\n",
        "\n",
        "    # cred_hist_ratio\n",
        "    if all(col in df.columns for col in ['cb_person_cred_hist_length', 'person_age']):\n",
        "        df['cred_hist_ratio'] = df['cb_person_cred_hist_length'] / df['person_age']\n",
        "\n",
        "    # high_loan_ratio\n",
        "    if 'loan_percent_income' in df.columns:\n",
        "        df['high_loan_ratio'] = (df['loan_percent_income'] > 0.3).astype(int)\n",
        "\n",
        "    # emp_length bin\n",
        "    if 'person_emp_length' in df.columns:\n",
        "        bins_emp = [-1, 1, 5, 10, 50]\n",
        "        labels_emp = [\"0-1\", \"2-5\", \"6-10\", \"10+\"]\n",
        "        df['emp_length_bin'] = pd.cut(df['person_emp_length'], bins=bins_emp, labels=labels_emp)\n",
        "\n",
        "    # loan_grade ordinal + subprime\n",
        "    if 'loan_grade' in df.columns:\n",
        "        grade_map = {'A':1, 'B':2, 'C':3, 'D':4, 'E':5, 'F':6, 'G':7}\n",
        "        df['loan_grade_num'] = df['loan_grade'].map(grade_map)\n",
        "        df['is_subprime'] = (df['loan_grade_num'] >= 4).astype(int)\n",
        "\n",
        "    return df\n",
        "\n",
        "# Appliquer aux datasets\n",
        "x_train_logistic = add_features(x_train_logistic)\n",
        "x_test_logistic = add_features(x_test_logistic)\n",
        "\n",
        "\n"
      ],
      "metadata": {
        "id": "XBwv3RbyeGy_"
      },
      "execution_count": 27,
      "outputs": []
    },
    {
      "cell_type": "code",
      "source": [
        "# Convertir emp_length_bin en string pour l'encoder\n",
        "x_train_logistic['emp_length_bin'] = x_train_logistic['emp_length_bin'].astype(str)\n",
        "x_test_logistic['emp_length_bin'] = x_test_logistic['emp_length_bin'].astype(str)\n",
        "\n",
        "# Maintenant on peut encoder\n",
        "from sklearn.preprocessing import OneHotEncoder\n",
        "\n",
        "encoder = OneHotEncoder(sparse_output=False, handle_unknown='ignore')\n",
        "\n",
        "# Fit sur train\n",
        "encoded_train = encoder.fit_transform(x_train_logistic[['emp_length_bin']])\n",
        "encoded_test = encoder.transform(x_test_logistic[['emp_length_bin']])\n",
        "\n",
        "# Convertir en DataFrame\n",
        "encoded_train_df = pd.DataFrame(encoded_train, columns=encoder.get_feature_names_out(['emp_length_bin']), index=x_train_logistic.index)\n",
        "encoded_test_df = pd.DataFrame(encoded_test, columns=encoder.get_feature_names_out(['emp_length_bin']), index=x_test_logistic.index)\n",
        "\n",
        "# Supprimer la colonne originale et concaténer\n",
        "x_train_logistic = x_train_logistic.drop(columns=['emp_length_bin'])\n",
        "x_test_logistic = x_test_logistic.drop(columns=['emp_length_bin'])\n",
        "\n",
        "x_train_logistic = pd.concat([x_train_logistic, encoded_train_df], axis=1)\n",
        "x_test_logistic = pd.concat([x_test_logistic, encoded_test_df], axis=1)\n"
      ],
      "metadata": {
        "id": "7tf0nrncuJCg"
      },
      "execution_count": 28,
      "outputs": []
    },
    {
      "cell_type": "code",
      "source": [
        "print(x_train_logistic.info())\n",
        "\n"
      ],
      "metadata": {
        "colab": {
          "base_uri": "https://localhost:8080/"
        },
        "id": "WQTF7U8LqckB",
        "outputId": "c6cd70c0-f7db-4ad4-ea2f-f282aa2d2fd3"
      },
      "execution_count": 29,
      "outputs": [
        {
          "output_type": "stream",
          "name": "stdout",
          "text": [
            "<class 'pandas.core.frame.DataFrame'>\n",
            "RangeIndex: 58645 entries, 0 to 58644\n",
            "Data columns (total 37 columns):\n",
            " #   Column                          Non-Null Count  Dtype  \n",
            "---  ------                          --------------  -----  \n",
            " 0   person_age                      58645 non-null  int64  \n",
            " 1   person_income                   58645 non-null  int64  \n",
            " 2   person_emp_length               58645 non-null  float64\n",
            " 3   loan_amnt                       58645 non-null  int64  \n",
            " 4   loan_int_rate                   58645 non-null  float64\n",
            " 5   loan_percent_income             58645 non-null  float64\n",
            " 6   cb_person_cred_hist_length      58645 non-null  int64  \n",
            " 7   person_home_ownership_MORTGAGE  58645 non-null  float64\n",
            " 8   person_home_ownership_OTHER     58645 non-null  float64\n",
            " 9   person_home_ownership_OWN       58645 non-null  float64\n",
            " 10  person_home_ownership_RENT      58645 non-null  float64\n",
            " 11  loan_intent_DEBTCONSOLIDATION   58645 non-null  float64\n",
            " 12  loan_intent_EDUCATION           58645 non-null  float64\n",
            " 13  loan_intent_HOMEIMPROVEMENT     58645 non-null  float64\n",
            " 14  loan_intent_MEDICAL             58645 non-null  float64\n",
            " 15  loan_intent_PERSONAL            58645 non-null  float64\n",
            " 16  loan_intent_VENTURE             58645 non-null  float64\n",
            " 17  cb_person_default_on_file_N     58645 non-null  float64\n",
            " 18  cb_person_default_on_file_Y     58645 non-null  float64\n",
            " 19  loan_grade_encoded              58645 non-null  int64  \n",
            " 20  age_squared                     58645 non-null  int64  \n",
            " 21  age_bins_18-25                  58645 non-null  float64\n",
            " 22  age_bins_26-35                  58645 non-null  float64\n",
            " 23  age_bins_36-50                  58645 non-null  float64\n",
            " 24  age_bins_51-65                  58645 non-null  float64\n",
            " 25  age_bins_65+                    58645 non-null  float64\n",
            " 26  age_bins_nan                    58645 non-null  float64\n",
            " 27  log_income                      58645 non-null  float64\n",
            " 28  loan_to_income                  58645 non-null  float64\n",
            " 29  loan_cost                       58645 non-null  float64\n",
            " 30  cred_hist_ratio                 58645 non-null  float64\n",
            " 31  high_loan_ratio                 58645 non-null  int64  \n",
            " 32  emp_length_bin_0-1              58645 non-null  float64\n",
            " 33  emp_length_bin_10+              58645 non-null  float64\n",
            " 34  emp_length_bin_2-5              58645 non-null  float64\n",
            " 35  emp_length_bin_6-10             58645 non-null  float64\n",
            " 36  emp_length_bin_nan              58645 non-null  float64\n",
            "dtypes: float64(30), int64(7)\n",
            "memory usage: 16.6 MB\n",
            "None\n"
          ]
        }
      ]
    },
    {
      "cell_type": "markdown",
      "source": [
        "#Feature engineering pour catboost"
      ],
      "metadata": {
        "id": "z9K8Hni6P53_"
      }
    },
    {
      "cell_type": "code",
      "source": [
        "x_train_catboost=x_train.copy()\n",
        "x_test_catboost=x_test.copy()\n",
        "\n",
        "# financial ratio\n",
        "x_train_catboost[\"loan_to_income\"] = x_train_catboost[\"loan_amnt\"] / (x_train_catboost[\"person_income\"] + 1)\n",
        "x_test_catboost[\"loan_to_income\"] = x_test_catboost[\"loan_amnt\"] / (x_test_catboost[\"person_income\"] + 1)\n",
        "\n",
        "x_train_catboost[\"installment_to_income\"] = x_train_catboost[\"loan_int_rate\"] / (x_train_catboost[\"person_income\"] + 1)\n",
        "x_test_catboost[\"installment_to_income\"] = x_test_catboost[\"loan_int_rate\"] / (x_test_catboost[\"person_income\"] + 1)\n",
        "\n",
        "# 2. Log-transform\n",
        "x_train_catboost[\"log_income\"] = np.log1p(x_train_catboost[\"person_income\"])\n",
        "x_test_catboost[\"log_income\"] = np.log1p(x_test_catboost[\"person_income\"])\n",
        "\n",
        "x_train_catboost[\"log_loan_amnt\"] = np.log1p(x_train_catboost[\"loan_amnt\"])\n",
        "x_test_catboost[\"log_loan_amnt\"] = np.log1p(x_test_catboost[\"loan_amnt\"])\n",
        "\n",
        "# 3. Interactions\n",
        "if \"emp_length\" in x_train_catboost.columns:\n",
        "    x_train_catboost[\"income_times_employment\"] = x_train_catboost[\"person_income\"] * x_train_catboost[\"emp_length\"]\n",
        "    x_test_catboost[\"income_times_employment\"] = x_test_catboost[\"person_income\"] * x_test_catboost[\"emp_length\"]\n",
        "\n",
        "if \"cb_person_cred_hist_length\" in x_train_catboost.columns:\n",
        "    x_train_catboost[\"loan_int_rate_times_credit_hist\"] = (\n",
        "        x_train_catboost[\"loan_int_rate\"] * x_train_catboost[\"cb_person_cred_hist_length\"]\n",
        "    )\n",
        "    x_test_catboost[\"loan_int_rate_times_credit_hist\"] = (\n",
        "        x_test_catboost[\"loan_int_rate\"] * x_test_catboost[\"cb_person_cred_hist_length\"]\n",
        "    )\n",
        "\n",
        "\n",
        "x_train_catboost[\"age_bin\"] = pd.cut(\n",
        "    x_train_catboost[\"person_age\"], bins=[18,25,35,50,65,100],\n",
        "    labels=[\"18-25\",\"26-35\",\"36-50\",\"51-65\",\"65+\"]\n",
        ")\n",
        "x_test_catboost[\"age_bin\"] = pd.cut(\n",
        "    x_test_catboost[\"person_age\"], bins=[18,25,35,50,65,100],\n",
        "    labels=[\"18-25\",\"26-35\",\"36-50\",\"51-65\",\"65+\"]\n",
        ")\n",
        "\n",
        "\n"
      ],
      "metadata": {
        "id": "po_RvY6RP40m"
      },
      "execution_count": 30,
      "outputs": []
    },
    {
      "cell_type": "code",
      "source": [
        "print(x_train_catboost.info())"
      ],
      "metadata": {
        "colab": {
          "base_uri": "https://localhost:8080/"
        },
        "id": "b2ZzIgAVUQjH",
        "outputId": "52dc55d9-9671-4a1e-aee9-f49ebc98e6a1"
      },
      "execution_count": 31,
      "outputs": [
        {
          "output_type": "stream",
          "name": "stdout",
          "text": [
            "<class 'pandas.core.frame.DataFrame'>\n",
            "RangeIndex: 58645 entries, 0 to 58644\n",
            "Data columns (total 17 columns):\n",
            " #   Column                           Non-Null Count  Dtype   \n",
            "---  ------                           --------------  -----   \n",
            " 0   person_age                       58645 non-null  int64   \n",
            " 1   person_income                    58645 non-null  int64   \n",
            " 2   person_home_ownership            58645 non-null  object  \n",
            " 3   person_emp_length                58645 non-null  float64 \n",
            " 4   loan_intent                      58645 non-null  object  \n",
            " 5   loan_grade                       58645 non-null  object  \n",
            " 6   loan_amnt                        58645 non-null  int64   \n",
            " 7   loan_int_rate                    58645 non-null  float64 \n",
            " 8   loan_percent_income              58645 non-null  float64 \n",
            " 9   cb_person_default_on_file        58645 non-null  object  \n",
            " 10  cb_person_cred_hist_length       58645 non-null  int64   \n",
            " 11  loan_to_income                   58645 non-null  float64 \n",
            " 12  installment_to_income            58645 non-null  float64 \n",
            " 13  log_income                       58645 non-null  float64 \n",
            " 14  log_loan_amnt                    58645 non-null  float64 \n",
            " 15  loan_int_rate_times_credit_hist  58645 non-null  float64 \n",
            " 16  age_bin                          58644 non-null  category\n",
            "dtypes: category(1), float64(8), int64(4), object(4)\n",
            "memory usage: 7.2+ MB\n",
            "None\n"
          ]
        }
      ]
    },
    {
      "cell_type": "markdown",
      "source": [
        "#Feature engineering for RandomForest"
      ],
      "metadata": {
        "id": "LXcZXGaOYB8T"
      }
    },
    {
      "cell_type": "code",
      "source": [
        "\n",
        "x_train_forest=x_train.copy()\n",
        "x_test_forest=x_test.copy()\n",
        "\n",
        "\n",
        "# Initialize the OneHotEncoder\n",
        "encoder_forest = OneHotEncoder(sparse_output=False, handle_unknown='ignore')\n",
        "\n",
        "# Fit and transform the encoder on x_train\n",
        "encoded_train_forest= encoder_forest.fit_transform(x_train_forest[nominal_features])\n",
        "\n",
        "# Transform x_test using the fitted encoder\n",
        "encoded_test_forest = encoder_forest.transform(x_test_forest[nominal_features])\n",
        "\n",
        "# Convert the encoded arrays back to DataFrames\n",
        "encoded_train_df_forest = pd.DataFrame(encoded_train_forest, columns=encoder_forest.get_feature_names_out(nominal_features))\n",
        "encoded_test_df_forest = pd.DataFrame(encoded_test_forest, columns=encoder_forest.get_feature_names_out(nominal_features))\n",
        "\n",
        "# Drop the original categorical columns from x_train and x_test\n",
        "x_train_forest = x_train_forest.drop(columns=nominal_features)\n",
        "x_test_forest= x_test_forest.drop(columns=nominal_features)\n",
        "\n",
        "# Concatenate the encoded columns with the rest of the DataFrame\n",
        "x_train_forest = pd.concat([x_train_forest, encoded_train_df_forest], axis=1)\n",
        "x_test_forest = pd.concat([x_test_forest, encoded_test_df_forest], axis=1)\n",
        "\n",
        "\n",
        "encoded_train_df_forest.index = x_train_forest.index\n",
        "encoded_test_df_forest.index = x_test_forest.index\n",
        "\n",
        "\n",
        "for df in [x_train_forest, x_test_forest]:\n",
        "    df['loan_grade_encoded'] = df['loan_grade'].map(ordinal_mapping)\n",
        "\n",
        "x_train_forest= x_train_forest.drop(columns=ordinal_features)\n",
        "x_test_forest= x_test_forest.drop(columns=ordinal_features)\n",
        "\n",
        "\n",
        "\n",
        "\n",
        "x_train_forest[\"loan_to_income_ratio\"] = x_train_forest[\"loan_amnt\"] / (x_train_forest[\"person_income\"] + 1)\n",
        "x_test_forest[\"loan_to_income_ratio\"] = x_test_forest[\"loan_amnt\"] / (x_test_forest[\"person_income\"] + 1)\n",
        "\n",
        "\n",
        "x_train_forest[\"age_to_loan_ratio\"] = x_train_forest[\"person_age\"] / (x_train_forest[\"loan_amnt\"] + 1)\n",
        "x_test_forest[\"age_to_loan_ratio\"] = x_test_forest[\"person_age\"] / (x_test_forest[\"loan_amnt\"] + 1)\n",
        "\n",
        "\n",
        "\n",
        "\n",
        "\n",
        "x_train_forest[\"heavy_loan_flag\"] = (x_train_forest[\"loan_amnt\"] > x_train_forest[\"person_income\"] * 0.5).astype(int)\n",
        "x_test_forest[\"heavy_loan_flag\"] = (x_test_forest[\"loan_amnt\"] > x_test_forest[\"person_income\"] * 0.5).astype(int)\n",
        "\n",
        "\n",
        "for col in x_train_forest.columns:\n",
        "    if x_train_forest[col].isnull().sum() > 0:\n",
        "        if x_train_forest[col].dtype in [\"int64\", \"float64\"]:\n",
        "            median_val = x_train_forest[col].median()\n",
        "            x_train_forest[col].fillna(median_val, inplace=True)\n",
        "            x_test_forest[col].fillna(median_val, inplace=True)\n",
        "        else:\n",
        "            mode_val = x_train_forest[col].mode()[0]\n",
        "            x_train_forest[col].fillna(mode_val, inplace=True)\n",
        "            x_test_forest[col].fillna(mode_val, inplace=True)\n",
        "\n",
        "\n"
      ],
      "metadata": {
        "id": "7y-Q6ipTYBj0"
      },
      "execution_count": 32,
      "outputs": []
    },
    {
      "cell_type": "markdown",
      "source": [
        "##We will do a stacking combining models that uses different encoding\n",
        "\n",
        "\n",
        "logistic regression (the meta model)\n",
        "\n",
        "Random Forest\n",
        "\n",
        "Gradient Boosting\n",
        "\n",
        "CatBoost\n",
        "\n",
        "*****warning: we have to use cross validation for the meta features\n",
        "\n"
      ],
      "metadata": {
        "id": "Db1-wR2pLa6g"
      }
    },
    {
      "cell_type": "code",
      "source": [
        "pip install CatBoost"
      ],
      "metadata": {
        "colab": {
          "base_uri": "https://localhost:8080/"
        },
        "id": "K5lLjnmsSyr2",
        "outputId": "90d9dcce-0936-4f55-e525-6615c031d1c2"
      },
      "execution_count": 33,
      "outputs": [
        {
          "output_type": "stream",
          "name": "stdout",
          "text": [
            "Collecting CatBoost\n",
            "  Downloading catboost-1.2.8-cp312-cp312-manylinux2014_x86_64.whl.metadata (1.2 kB)\n",
            "Requirement already satisfied: graphviz in /usr/local/lib/python3.12/dist-packages (from CatBoost) (0.21)\n",
            "Requirement already satisfied: matplotlib in /usr/local/lib/python3.12/dist-packages (from CatBoost) (3.10.0)\n",
            "Requirement already satisfied: numpy<3.0,>=1.16.0 in /usr/local/lib/python3.12/dist-packages (from CatBoost) (2.0.2)\n",
            "Requirement already satisfied: pandas>=0.24 in /usr/local/lib/python3.12/dist-packages (from CatBoost) (2.2.2)\n",
            "Requirement already satisfied: scipy in /usr/local/lib/python3.12/dist-packages (from CatBoost) (1.16.1)\n",
            "Requirement already satisfied: plotly in /usr/local/lib/python3.12/dist-packages (from CatBoost) (5.24.1)\n",
            "Requirement already satisfied: six in /usr/local/lib/python3.12/dist-packages (from CatBoost) (1.17.0)\n",
            "Requirement already satisfied: python-dateutil>=2.8.2 in /usr/local/lib/python3.12/dist-packages (from pandas>=0.24->CatBoost) (2.9.0.post0)\n",
            "Requirement already satisfied: pytz>=2020.1 in /usr/local/lib/python3.12/dist-packages (from pandas>=0.24->CatBoost) (2025.2)\n",
            "Requirement already satisfied: tzdata>=2022.7 in /usr/local/lib/python3.12/dist-packages (from pandas>=0.24->CatBoost) (2025.2)\n",
            "Requirement already satisfied: contourpy>=1.0.1 in /usr/local/lib/python3.12/dist-packages (from matplotlib->CatBoost) (1.3.3)\n",
            "Requirement already satisfied: cycler>=0.10 in /usr/local/lib/python3.12/dist-packages (from matplotlib->CatBoost) (0.12.1)\n",
            "Requirement already satisfied: fonttools>=4.22.0 in /usr/local/lib/python3.12/dist-packages (from matplotlib->CatBoost) (4.59.2)\n",
            "Requirement already satisfied: kiwisolver>=1.3.1 in /usr/local/lib/python3.12/dist-packages (from matplotlib->CatBoost) (1.4.9)\n",
            "Requirement already satisfied: packaging>=20.0 in /usr/local/lib/python3.12/dist-packages (from matplotlib->CatBoost) (25.0)\n",
            "Requirement already satisfied: pillow>=8 in /usr/local/lib/python3.12/dist-packages (from matplotlib->CatBoost) (11.3.0)\n",
            "Requirement already satisfied: pyparsing>=2.3.1 in /usr/local/lib/python3.12/dist-packages (from matplotlib->CatBoost) (3.2.3)\n",
            "Requirement already satisfied: tenacity>=6.2.0 in /usr/local/lib/python3.12/dist-packages (from plotly->CatBoost) (8.5.0)\n",
            "Downloading catboost-1.2.8-cp312-cp312-manylinux2014_x86_64.whl (99.2 MB)\n",
            "\u001b[2K   \u001b[90m━━━━━━━━━━━━━━━━━━━━━━━━━━━━━━━━━━━━━━━━\u001b[0m \u001b[32m99.2/99.2 MB\u001b[0m \u001b[31m8.8 MB/s\u001b[0m eta \u001b[36m0:00:00\u001b[0m\n",
            "\u001b[?25hInstalling collected packages: CatBoost\n",
            "Successfully installed CatBoost-1.2.8\n"
          ]
        }
      ]
    },
    {
      "cell_type": "code",
      "source": [
        "x_train_catboost.info()"
      ],
      "metadata": {
        "colab": {
          "base_uri": "https://localhost:8080/"
        },
        "id": "OTToq_JF9A19",
        "outputId": "40acc436-061e-4bb3-cef7-dc1ee35f07e1"
      },
      "execution_count": 34,
      "outputs": [
        {
          "output_type": "stream",
          "name": "stdout",
          "text": [
            "<class 'pandas.core.frame.DataFrame'>\n",
            "RangeIndex: 58645 entries, 0 to 58644\n",
            "Data columns (total 17 columns):\n",
            " #   Column                           Non-Null Count  Dtype   \n",
            "---  ------                           --------------  -----   \n",
            " 0   person_age                       58645 non-null  int64   \n",
            " 1   person_income                    58645 non-null  int64   \n",
            " 2   person_home_ownership            58645 non-null  object  \n",
            " 3   person_emp_length                58645 non-null  float64 \n",
            " 4   loan_intent                      58645 non-null  object  \n",
            " 5   loan_grade                       58645 non-null  object  \n",
            " 6   loan_amnt                        58645 non-null  int64   \n",
            " 7   loan_int_rate                    58645 non-null  float64 \n",
            " 8   loan_percent_income              58645 non-null  float64 \n",
            " 9   cb_person_default_on_file        58645 non-null  object  \n",
            " 10  cb_person_cred_hist_length       58645 non-null  int64   \n",
            " 11  loan_to_income                   58645 non-null  float64 \n",
            " 12  installment_to_income            58645 non-null  float64 \n",
            " 13  log_income                       58645 non-null  float64 \n",
            " 14  log_loan_amnt                    58645 non-null  float64 \n",
            " 15  loan_int_rate_times_credit_hist  58645 non-null  float64 \n",
            " 16  age_bin                          58644 non-null  category\n",
            "dtypes: category(1), float64(8), int64(4), object(4)\n",
            "memory usage: 7.2+ MB\n"
          ]
        }
      ]
    },
    {
      "cell_type": "code",
      "source": [
        "# 1) Détecter les colonnes catégorielles\n",
        "cat_features = x_train_catboost.select_dtypes(include=['object', 'category']).columns.tolist()\n",
        "\n",
        "print(\"Colonnes catégorielles :\", cat_features)\n",
        "\n",
        "# 2) Forcer en string + remplacer NaN par \"missing\"\n",
        "for c in cat_features:\n",
        "    x_train_catboost[c] = x_train_catboost[c].astype(str).fillna(\"missing\")\n",
        "    x_test_catboost[c]  = x_test_catboost[c].astype(str).fillna(\"missing\")\n",
        "\n",
        "\n"
      ],
      "metadata": {
        "colab": {
          "base_uri": "https://localhost:8080/"
        },
        "id": "KlhfbPM3-SqO",
        "outputId": "74650864-32ad-47ed-b814-38a73465f9a6"
      },
      "execution_count": 35,
      "outputs": [
        {
          "output_type": "stream",
          "name": "stdout",
          "text": [
            "Colonnes catégorielles : ['person_home_ownership', 'loan_intent', 'loan_grade', 'cb_person_default_on_file', 'age_bin']\n"
          ]
        }
      ]
    },
    {
      "cell_type": "code",
      "source": [
        "from sklearn.model_selection import KFold\n",
        "from sklearn.linear_model import LogisticRegression\n",
        "from sklearn.ensemble import RandomForestClassifier, GradientBoostingClassifier\n",
        "from xgboost import XGBClassifier\n",
        "from catboost import CatBoostClassifier\n",
        "import numpy as np\n",
        "cat_features = x_train_catboost.select_dtypes(include=['object', 'category']).columns.tolist()\n",
        "# ================================\n",
        "# 1. Initialiser les modèles\n",
        "# ================================\n",
        "rf_model = RandomForestClassifier(n_estimators=300, max_depth=10, random_state=42)\n",
        "gb_model = GradientBoostingClassifier(n_estimators=300, learning_rate=0.1, max_depth=5, random_state=42)\n",
        "xgb_model = XGBClassifier(n_estimators=300, learning_rate=0.1, max_depth=5,\n",
        "                          subsample=0.8, colsample_bytree=0.8, random_state=42, use_label_encoder=False, eval_metric=\"logloss\")\n",
        "cat_model = CatBoostClassifier(iterations=500, learning_rate=0.05, depth=6,\n",
        "                               eval_metric='AUC', random_state=42, verbose=0)\n",
        "\n",
        "meta_model = LogisticRegression(max_iter=1000, solver='lbfgs', random_state=42)\n",
        "\n",
        "# ================================\n",
        "# 2. Préparation stacking\n",
        "# ================================\n",
        "kf = KFold(n_splits=5, shuffle=True, random_state=42)\n",
        "\n",
        "oof_preds = np.zeros((x_train.shape[0], 4))   # 4 modèles de base\n",
        "test_preds = np.zeros((x_test.shape[0], 4))\n",
        "\n",
        "# ================================\n",
        "# 3. Cross-validation pour meta-features\n",
        "# ================================\n",
        "for fold, (train_idx, val_idx) in enumerate(kf.split(x_train)):\n",
        "    print(f\"\\n---- Fold {fold+1} ----\")\n",
        "\n",
        "    # Splits locaux\n",
        "    X_tr_rf, X_val_rf = x_train_forest.iloc[train_idx], x_train_forest.iloc[val_idx]\n",
        "    X_tr_gb, X_val_gb = x_train_forest.iloc[train_idx], x_train_forest.iloc[val_idx]  # même features que RF\n",
        "    X_tr_xgb, X_val_xgb = x_train_forest.iloc[train_idx], x_train_forest.iloc[val_idx]  # idem\n",
        "    X_tr_cat, X_val_cat = x_train_catboost.iloc[train_idx], x_train_catboost.iloc[val_idx]\n",
        "    y_tr, y_val = y_train.iloc[train_idx], y_train.iloc[val_idx]\n",
        "\n",
        "    # Random Forest\n",
        "    rf_model.fit(X_tr_rf, y_tr)\n",
        "    oof_preds[val_idx, 0] = rf_model.predict_proba(X_val_rf)[:, 1]\n",
        "    test_preds[:, 0] += rf_model.predict_proba(x_test_forest)[:, 1] / kf.n_splits\n",
        "\n",
        "    # Gradient Boosting\n",
        "    gb_model.fit(X_tr_gb, y_tr)\n",
        "    oof_preds[val_idx, 1] = gb_model.predict_proba(X_val_gb)[:, 1]\n",
        "    test_preds[:, 1] += gb_model.predict_proba(x_test_forest)[:, 1] / kf.n_splits\n",
        "\n",
        "    # XGBoost\n",
        "    xgb_model.fit(X_tr_xgb, y_tr)\n",
        "    oof_preds[val_idx, 2] = xgb_model.predict_proba(X_val_xgb)[:, 1]\n",
        "    test_preds[:, 2] += xgb_model.predict_proba(x_test_forest)[:, 1] / kf.n_splits\n",
        "\n",
        "    # CatBoost\n",
        "    cat_model.fit(X_tr_cat, y_tr, cat_features=cat_features, verbose=0)\n",
        "    oof_preds[val_idx, 3] = cat_model.predict_proba(X_val_cat)[:, 1]\n",
        "    test_preds[:, 3] += cat_model.predict_proba(x_test_catboost)[:, 1] / kf.n_splits\n",
        "\n",
        "# ================================\n",
        "# 4. Entraîner le méta-modèle\n",
        "# ================================\n",
        "meta_model.fit(oof_preds, y_train)\n",
        "\n",
        "# ================================\n",
        "# 5. Prédictions finales\n",
        "# ================================\n",
        "y_pred_proba = meta_model.predict_proba(test_preds)[:, 1]\n",
        "\n",
        "\n"
      ],
      "metadata": {
        "colab": {
          "base_uri": "https://localhost:8080/"
        },
        "id": "rH_EGqQU6WJj",
        "outputId": "c157b563-7375-41f4-80b3-62473b4d37ad"
      },
      "execution_count": 36,
      "outputs": [
        {
          "output_type": "stream",
          "name": "stdout",
          "text": [
            "\n",
            "---- Fold 1 ----\n"
          ]
        },
        {
          "output_type": "stream",
          "name": "stderr",
          "text": [
            "/usr/local/lib/python3.12/dist-packages/xgboost/training.py:183: UserWarning: [11:26:01] WARNING: /workspace/src/learner.cc:738: \n",
            "Parameters: { \"use_label_encoder\" } are not used.\n",
            "\n",
            "  bst.update(dtrain, iteration=i, fobj=obj)\n"
          ]
        },
        {
          "output_type": "stream",
          "name": "stdout",
          "text": [
            "\n",
            "---- Fold 2 ----\n"
          ]
        },
        {
          "output_type": "stream",
          "name": "stderr",
          "text": [
            "/usr/local/lib/python3.12/dist-packages/xgboost/training.py:183: UserWarning: [11:27:48] WARNING: /workspace/src/learner.cc:738: \n",
            "Parameters: { \"use_label_encoder\" } are not used.\n",
            "\n",
            "  bst.update(dtrain, iteration=i, fobj=obj)\n"
          ]
        },
        {
          "output_type": "stream",
          "name": "stdout",
          "text": [
            "\n",
            "---- Fold 3 ----\n"
          ]
        },
        {
          "output_type": "stream",
          "name": "stderr",
          "text": [
            "/usr/local/lib/python3.12/dist-packages/xgboost/training.py:183: UserWarning: [11:29:34] WARNING: /workspace/src/learner.cc:738: \n",
            "Parameters: { \"use_label_encoder\" } are not used.\n",
            "\n",
            "  bst.update(dtrain, iteration=i, fobj=obj)\n"
          ]
        },
        {
          "output_type": "stream",
          "name": "stdout",
          "text": [
            "\n",
            "---- Fold 4 ----\n"
          ]
        },
        {
          "output_type": "stream",
          "name": "stderr",
          "text": [
            "/usr/local/lib/python3.12/dist-packages/xgboost/training.py:183: UserWarning: [11:31:21] WARNING: /workspace/src/learner.cc:738: \n",
            "Parameters: { \"use_label_encoder\" } are not used.\n",
            "\n",
            "  bst.update(dtrain, iteration=i, fobj=obj)\n"
          ]
        },
        {
          "output_type": "stream",
          "name": "stdout",
          "text": [
            "\n",
            "---- Fold 5 ----\n"
          ]
        },
        {
          "output_type": "stream",
          "name": "stderr",
          "text": [
            "/usr/local/lib/python3.12/dist-packages/xgboost/training.py:183: UserWarning: [11:33:06] WARNING: /workspace/src/learner.cc:738: \n",
            "Parameters: { \"use_label_encoder\" } are not used.\n",
            "\n",
            "  bst.update(dtrain, iteration=i, fobj=obj)\n"
          ]
        }
      ]
    },
    {
      "cell_type": "code",
      "source": [
        "import pandas as pd\n",
        "import os\n",
        "\n",
        "df = pd.DataFrame({'id':x_test_id,'loan_status': y_pred_proba\n",
        "})\n",
        "df.to_csv(\"predictionStacking.csv\", index=False)\n",
        "print(\"Fichier 'predictionStacking.csv' créé dans le dossier courant.\")"
      ],
      "metadata": {
        "id": "sHttJ1eHI068",
        "colab": {
          "base_uri": "https://localhost:8080/"
        },
        "outputId": "47c320d7-0729-45ae-a857-b33b496be6b8"
      },
      "execution_count": 37,
      "outputs": [
        {
          "output_type": "stream",
          "name": "stdout",
          "text": [
            "Fichier 'predictionStacking.csv' créé dans le dossier courant.\n"
          ]
        }
      ]
    },
    {
      "cell_type": "code",
      "source": [
        "from google.colab import files\n",
        "files.download('predictionStacking.csv')"
      ],
      "metadata": {
        "id": "ybmi_OCXI3mf",
        "colab": {
          "base_uri": "https://localhost:8080/",
          "height": 17
        },
        "outputId": "88da170a-5bb0-4b74-886b-1088ef810842"
      },
      "execution_count": 38,
      "outputs": [
        {
          "output_type": "display_data",
          "data": {
            "text/plain": [
              "<IPython.core.display.Javascript object>"
            ],
            "application/javascript": [
              "\n",
              "    async function download(id, filename, size) {\n",
              "      if (!google.colab.kernel.accessAllowed) {\n",
              "        return;\n",
              "      }\n",
              "      const div = document.createElement('div');\n",
              "      const label = document.createElement('label');\n",
              "      label.textContent = `Downloading \"${filename}\": `;\n",
              "      div.appendChild(label);\n",
              "      const progress = document.createElement('progress');\n",
              "      progress.max = size;\n",
              "      div.appendChild(progress);\n",
              "      document.body.appendChild(div);\n",
              "\n",
              "      const buffers = [];\n",
              "      let downloaded = 0;\n",
              "\n",
              "      const channel = await google.colab.kernel.comms.open(id);\n",
              "      // Send a message to notify the kernel that we're ready.\n",
              "      channel.send({})\n",
              "\n",
              "      for await (const message of channel.messages) {\n",
              "        // Send a message to notify the kernel that we're ready.\n",
              "        channel.send({})\n",
              "        if (message.buffers) {\n",
              "          for (const buffer of message.buffers) {\n",
              "            buffers.push(buffer);\n",
              "            downloaded += buffer.byteLength;\n",
              "            progress.value = downloaded;\n",
              "          }\n",
              "        }\n",
              "      }\n",
              "      const blob = new Blob(buffers, {type: 'application/binary'});\n",
              "      const a = document.createElement('a');\n",
              "      a.href = window.URL.createObjectURL(blob);\n",
              "      a.download = filename;\n",
              "      div.appendChild(a);\n",
              "      a.click();\n",
              "      div.remove();\n",
              "    }\n",
              "  "
            ]
          },
          "metadata": {}
        },
        {
          "output_type": "display_data",
          "data": {
            "text/plain": [
              "<IPython.core.display.Javascript object>"
            ],
            "application/javascript": [
              "download(\"download_936f06ae-f5c9-4258-8458-5b098a7c2072\", \"predictionStacking.csv\", 1027250)"
            ]
          },
          "metadata": {}
        }
      ]
    }
  ]
}